{
 "cells": [
  {
   "cell_type": "markdown",
   "id": "78937f3d-6b21-4c69-9ba1-526d018b11b5",
   "metadata": {},
   "source": [
    "# Forecast Random Forest\n",
    "\n",
    "1st August 2022\n",
    "\n",
    "Iterates on CNN2 to include all the geostationary data."
   ]
  },
  {
   "cell_type": "code",
   "execution_count": 22,
   "id": "b291f3ea-cac5-4cda-b58d-189ef600e439",
   "metadata": {},
   "outputs": [
    {
     "name": "stdout",
     "output_type": "stream",
     "text": [
      "The autoreload extension is already loaded. To reload it, use:\n",
      "  %reload_ext autoreload\n"
     ]
    }
   ],
   "source": [
    "# Libraries\n",
    "import matplotlib.pyplot as plt\n",
    "import pandas as pd\n",
    "import xarray as xr\n",
    "import numpy as np\n",
    "import copy\n",
    "import os\n",
    "import time\n",
    "#from google.cloud import storage\n",
    "from datetime import timedelta, timezone, datetime\n",
    "import zarr\n",
    "#from google.cloud import storage\n",
    "import pickle5\n",
    "import pickle\n",
    "import pandas as pd\n",
    "from datetime import datetime, timedelta\n",
    "import fsspec\n",
    "#from gcsfs import GCSFileSystem\n",
    "from tqdm import tqdm, notebook\n",
    "#from google.cloud import bigquery\n",
    "import seaborn as sns\n",
    "import jax\n",
    "import jax.numpy as jnp\n",
    "from sklearn.cluster import KMeans\n",
    "from sklearn import metrics\n",
    "from sklearn.metrics import roc_curve, roc_auc_score, confusion_matrix\n",
    "import scipy.special as scp\n",
    "from sklearn.ensemble import RandomForestClassifier\n",
    "\n",
    "from itertools import permutations, combinations\n",
    "from scipy.stats import norm\n",
    "import math\n",
    "\n",
    "\n",
    "%load_ext autoreload\n",
    "%autoreload 2\n"
   ]
  },
  {
   "cell_type": "code",
   "execution_count": 23,
   "id": "cda4bf33",
   "metadata": {},
   "outputs": [],
   "source": [
    "from google.cloud import bigquery"
   ]
  },
  {
   "cell_type": "code",
   "execution_count": 24,
   "id": "5443135c",
   "metadata": {},
   "outputs": [
    {
     "data": {
      "text/plain": [
       "'/home/emiliano/Documents/FDL'"
      ]
     },
     "execution_count": 24,
     "metadata": {},
     "output_type": "execute_result"
    }
   ],
   "source": [
    "os.chdir('../')\n",
    "os.getcwd()"
   ]
  },
  {
   "cell_type": "code",
   "execution_count": 29,
   "id": "7ff60a58",
   "metadata": {},
   "outputs": [],
   "source": [
    "os.chdir('./pyrocast_clean/')"
   ]
  },
  {
   "cell_type": "code",
   "execution_count": 30,
   "id": "58ce70f0",
   "metadata": {},
   "outputs": [
    {
     "data": {
      "text/plain": [
       "'/home/emiliano/Documents/FDL/pyrocast_clean'"
      ]
     },
     "execution_count": 30,
     "metadata": {},
     "output_type": "execute_result"
    }
   ],
   "source": [
    "os.getcwd()"
   ]
  },
  {
   "cell_type": "code",
   "execution_count": 45,
   "id": "3fb356fc-5560-414f-9b61-e2f72bc3b1af",
   "metadata": {},
   "outputs": [],
   "source": [
    "# Custom libraries\n",
    "import sys\n",
    "sys.path.insert(1,'/utils/')\n",
    "\n",
    "import utils.dataprep as dp\n",
    "from hsic import *\n",
    "#from rf import *\n",
    "from icp import *\n",
    "#import icp_nets as icpn"
   ]
  },
  {
   "cell_type": "markdown",
   "id": "99e02e2f-6bbe-42e1-a18b-ec6eb0734e97",
   "metadata": {},
   "source": [
    "## New Load Data\n",
    "\n",
    "### 1.5 | Split data"
   ]
  },
  {
   "cell_type": "code",
   "execution_count": 65,
   "id": "752fa2a7-3ed8-4435-8e67-85d915e4d425",
   "metadata": {},
   "outputs": [],
   "source": [
    "ML_ready_root = \"../data/\"\n",
    "file = \"Himawari_lazyload_dataset_keys_prediction_v1.pkl\"\n",
    "\n",
    "keys = pickle5.load( open( ML_ready_root+file, \"rb\" ) )\n",
    "keys_image, keys_era5 = keys"
   ]
  },
  {
   "cell_type": "code",
   "execution_count": 66,
   "id": "e770acc6-cf1a-487e-b1ea-0c28215afd85",
   "metadata": {},
   "outputs": [],
   "source": [
    "keys = keys_era5"
   ]
  },
  {
   "cell_type": "code",
   "execution_count": 67,
   "id": "5c8b65fb-9a4e-4062-832f-2949d4738f02",
   "metadata": {},
   "outputs": [
    {
     "data": {
      "text/plain": [
       "[True, True, False, False, True, True]"
      ]
     },
     "execution_count": 67,
     "metadata": {},
     "output_type": "execute_result"
    }
   ],
   "source": [
    "k0 = keys[1][\"flag_then\"][0]\n",
    "k0"
   ]
  },
  {
   "cell_type": "code",
   "execution_count": 68,
   "id": "ac85b969-9792-4b84-b3f1-7b50c8032936",
   "metadata": {},
   "outputs": [
    {
     "data": {
      "text/plain": [
       "[True, False, False, True, True]"
      ]
     },
     "execution_count": 68,
     "metadata": {},
     "output_type": "execute_result"
    }
   ],
   "source": [
    "k0[1:len(k0)]"
   ]
  },
  {
   "cell_type": "code",
   "execution_count": 69,
   "id": "a03dd5b4-cbc5-4faa-9f88-27ddd64a41a2",
   "metadata": {},
   "outputs": [
    {
     "data": {
      "text/plain": [
       "[True, True, False, False, True]"
      ]
     },
     "execution_count": 69,
     "metadata": {},
     "output_type": "execute_result"
    }
   ],
   "source": [
    "k0[0:(len(k0)-1)]"
   ]
  },
  {
   "cell_type": "code",
   "execution_count": 70,
   "id": "d08e5936-0307-440b-b31f-7a97e3360ddf",
   "metadata": {},
   "outputs": [
    {
     "data": {
      "text/plain": [
       "[True, False, False, False, True, False]"
      ]
     },
     "execution_count": 70,
     "metadata": {},
     "output_type": "execute_result"
    }
   ],
   "source": [
    "[k0[0]]+(np.array(k0[1:len(k0)])*np.logical_not(k0[0:(len(k0)-1)])).tolist()"
   ]
  },
  {
   "cell_type": "code",
   "execution_count": 71,
   "id": "f3950cbd-8480-412c-8f97-cc3cfd00de6c",
   "metadata": {},
   "outputs": [],
   "source": [
    "def correctFlags(ks):\n",
    "    return [ks[0]]+(np.array(ks[1:len(ks)])*np.logical_not(ks[0:(len(ks)-1)])).tolist()"
   ]
  },
  {
   "cell_type": "code",
   "execution_count": 72,
   "id": "4ef318d0-340e-4519-bf04-65b66ce2a27a",
   "metadata": {},
   "outputs": [],
   "source": [
    "i = 0\n",
    "correctedFlags = [correctFlags(keys[1][\"flag_then\"][i]) for i in range(len(keys[1][\"flag_then\"]))]"
   ]
  },
  {
   "cell_type": "code",
   "execution_count": 73,
   "id": "6f284638-a5e7-48d2-9d37-0074fe0beb13",
   "metadata": {},
   "outputs": [
    {
     "data": {
      "text/plain": [
       "1167"
      ]
     },
     "execution_count": 73,
     "metadata": {},
     "output_type": "execute_result"
    }
   ],
   "source": [
    "np.sum(dp.flatten(keys[1][\"flag_then\"]))"
   ]
  },
  {
   "cell_type": "code",
   "execution_count": 74,
   "id": "638471bc-2b81-4d63-a7f5-92c12f741854",
   "metadata": {},
   "outputs": [
    {
     "data": {
      "text/plain": [
       "447"
      ]
     },
     "execution_count": 74,
     "metadata": {},
     "output_type": "execute_result"
    }
   ],
   "source": [
    "np.sum(dp.flatten(correctedFlags))"
   ]
  },
  {
   "cell_type": "code",
   "execution_count": 75,
   "id": "267bd264-74e0-455b-bedd-d58d6cd51919",
   "metadata": {},
   "outputs": [
    {
     "data": {
      "text/plain": [
       "6919"
      ]
     },
     "execution_count": 75,
     "metadata": {},
     "output_type": "execute_result"
    }
   ],
   "source": [
    "len(dp.flatten(correctedFlags))"
   ]
  },
  {
   "cell_type": "code",
   "execution_count": 76,
   "id": "69941fd2-1fcf-4d07-8a88-3f8b2027087e",
   "metadata": {},
   "outputs": [],
   "source": [
    "i = 0\n",
    "indxKeep, = np.where([dp.flatten(correctedFlags)[i]==dp.flatten(keys[1][\"flag_then\"])[i] for i in range(len(dp.flatten(correctedFlags)))])"
   ]
  },
  {
   "cell_type": "code",
   "execution_count": 77,
   "id": "d1487313-bd60-4544-ae39-7522307d09e1",
   "metadata": {},
   "outputs": [
    {
     "data": {
      "text/plain": [
       "(6199,)"
      ]
     },
     "execution_count": 77,
     "metadata": {},
     "output_type": "execute_result"
    }
   ],
   "source": [
    "indxKeep.shape"
   ]
  },
  {
   "cell_type": "code",
   "execution_count": 78,
   "id": "cd1a88ea-4706-464e-9bae-e82f28bfc6eb",
   "metadata": {},
   "outputs": [
    {
     "ename": "FileNotFoundError",
     "evalue": "[Errno 2] No such file or directory: '../data/env_era5_pred_v1.npy'",
     "output_type": "error",
     "traceback": [
      "\u001b[0;31m---------------------------------------------------------------------------\u001b[0m",
      "\u001b[0;31mFileNotFoundError\u001b[0m                         Traceback (most recent call last)",
      "\u001b[0;32m/tmp/ipykernel_5455/3188440712.py\u001b[0m in \u001b[0;36m<module>\u001b[0;34m\u001b[0m\n\u001b[0;32m----> 1\u001b[0;31m \u001b[0menvVars\u001b[0m \u001b[0;34m=\u001b[0m \u001b[0mnp\u001b[0m\u001b[0;34m.\u001b[0m\u001b[0mload\u001b[0m\u001b[0;34m(\u001b[0m\u001b[0mML_ready_root\u001b[0m\u001b[0;34m+\u001b[0m\u001b[0;34m'env_era5_pred_v1.npy'\u001b[0m\u001b[0;34m)\u001b[0m\u001b[0;34m\u001b[0m\u001b[0;34m\u001b[0m\u001b[0m\n\u001b[0m\u001b[1;32m      2\u001b[0m \u001b[0menvVars\u001b[0m\u001b[0;34m.\u001b[0m\u001b[0mshape\u001b[0m\u001b[0;34m\u001b[0m\u001b[0;34m\u001b[0m\u001b[0m\n",
      "\u001b[0;32m~/anaconda3/lib/python3.7/site-packages/numpy/lib/npyio.py\u001b[0m in \u001b[0;36mload\u001b[0;34m(file, mmap_mode, allow_pickle, fix_imports, encoding)\u001b[0m\n\u001b[1;32m    415\u001b[0m             \u001b[0mown_fid\u001b[0m \u001b[0;34m=\u001b[0m \u001b[0;32mFalse\u001b[0m\u001b[0;34m\u001b[0m\u001b[0;34m\u001b[0m\u001b[0m\n\u001b[1;32m    416\u001b[0m         \u001b[0;32melse\u001b[0m\u001b[0;34m:\u001b[0m\u001b[0;34m\u001b[0m\u001b[0;34m\u001b[0m\u001b[0m\n\u001b[0;32m--> 417\u001b[0;31m             \u001b[0mfid\u001b[0m \u001b[0;34m=\u001b[0m \u001b[0mstack\u001b[0m\u001b[0;34m.\u001b[0m\u001b[0menter_context\u001b[0m\u001b[0;34m(\u001b[0m\u001b[0mopen\u001b[0m\u001b[0;34m(\u001b[0m\u001b[0mos_fspath\u001b[0m\u001b[0;34m(\u001b[0m\u001b[0mfile\u001b[0m\u001b[0;34m)\u001b[0m\u001b[0;34m,\u001b[0m \u001b[0;34m\"rb\"\u001b[0m\u001b[0;34m)\u001b[0m\u001b[0;34m)\u001b[0m\u001b[0;34m\u001b[0m\u001b[0;34m\u001b[0m\u001b[0m\n\u001b[0m\u001b[1;32m    418\u001b[0m             \u001b[0mown_fid\u001b[0m \u001b[0;34m=\u001b[0m \u001b[0;32mTrue\u001b[0m\u001b[0;34m\u001b[0m\u001b[0;34m\u001b[0m\u001b[0m\n\u001b[1;32m    419\u001b[0m \u001b[0;34m\u001b[0m\u001b[0m\n",
      "\u001b[0;31mFileNotFoundError\u001b[0m: [Errno 2] No such file or directory: '../data/env_era5_pred_v1.npy'"
     ]
    }
   ],
   "source": [
    "envVars = np.load(ML_ready_root+'env_era5_pred_v1.npy')\n",
    "envVars.shape"
   ]
  },
  {
   "cell_type": "code",
   "execution_count": null,
   "id": "843fdf93-e026-4ad6-8243-e7b1e7b169b6",
   "metadata": {},
   "outputs": [],
   "source": [
    "envVars[0:5,]"
   ]
  },
  {
   "cell_type": "markdown",
   "id": "38912984",
   "metadata": {},
   "source": [
    "\n",
    "Meteorological Era 5 variables\n",
    "\n",
    "| Variable index | Short name | Long name |\n",
    "| -------------- | ---------- | --------- |\n",
    "| 0  | u10  | 10m u component of wind | \n",
    "| 1  | v10  | 10m v component of wind |\n",
    "| 2  | fg10 | 10m wind gust since previous post processing |\n",
    "| 3  | blh  | boundary layer height |\n",
    "| 4  | cape | convective available potential energy |\n",
    "| 5  | cin  | convective inhibition |\n",
    "| 6  | z    | geopotential |\n",
    "| 7  | slhf | surface latent heat flux |\n",
    "| 8  | sshf | surface sensible heat flux |\n",
    "| 9 | w    | surface vertical velocity |\n",
    "| 10 | u    | u component of wind at 250hPa |\n",
    "| 11 | v    | v component of wind at 250hPa |\n",
    "| 12 | cvh  | fraction of high vegetation |\n",
    "| 13 | cvl  | fraction of low vegetation |\n",
    "| 14 | tvh  | type of high vegetation |\n",
    "| 15 | tvl  | type of low vegetation |\n",
    "| 16 | r650 | relative humidity at 650hPa |\n",
    "| 17 | r750 | relative humidity at 750hPa |\n",
    "| 18 | r850 | relative humidity at 850hPa |"
   ]
  },
  {
   "cell_type": "code",
   "execution_count": null,
   "id": "89a81da1-2348-4d0e-a22b-1f501794c177",
   "metadata": {},
   "outputs": [],
   "source": [
    "#cube = np.load(ML_ready_root+'x_image_det_v1.npy')\n",
    "#labels = np.load(ML_ready_root+'y_image_det_v1.npy')\n",
    "#cube = np.load(ML_ready_root+'x_image_pred_v1.npy')\n",
    "#labels = np.load(ML_ready_root+'y_image_pred_v1.npy')\n",
    "\n",
    "#cube = np.load(ML_ready_root+'xFeat_era5_3vs_pred_v1.npy')\n",
    "#labels = np.load(ML_ready_root+'y_era5_3vs_pred_v1.npy')\n",
    "#cube = np.load(ML_ready_root+'xFeat_era5_19vs_pred_v1.npy')\n",
    "cube = np.load(ML_ready_root+'xFeat_era5_25vs_pred_v2.npy')\n",
    "labels = np.load(ML_ready_root+'y_era5_19vs_pred_v1.npy')\n",
    "\n",
    "#cube = np.load(ML_ready_root+'xFeat_era5_3vs_pred_oracle_v1.npy')\n",
    "#labels = np.load(ML_ready_root+'y_era5_3vs_pred_oracle_v1.npy')\n",
    "#cube = np.load(ML_ready_root+'xFeat_era5_19vs_pred_oracle_v1.npy')\n",
    "#labels = np.load(ML_ready_root+'y_era5_19vs_pred_oracle_v1.npy')\n",
    "\n",
    "#cube = np.load(ML_ready_root+'xFeat_era5_3vs_det_v1.npy')\n",
    "#labels = np.load(ML_ready_root+'y_era5_3vs_det_v1.npy')\n",
    "#cube = np.load(ML_ready_root+'xFeat_era5_19vs_det_v1.npy')\n",
    "#labels = np.load(ML_ready_root+'y_era5_19vs_det_v1.npy')"
   ]
  },
  {
   "cell_type": "code",
   "execution_count": null,
   "id": "8e08dfad-f5b6-460c-95c0-37c65815f1b5",
   "metadata": {},
   "outputs": [],
   "source": [
    "def allZeros(x):\n",
    "    return np.all(x==0)\n",
    "indxZeros = np.where(np.apply_along_axis(allZeros,0,cube))\n",
    "indxZeros"
   ]
  },
  {
   "cell_type": "code",
   "execution_count": null,
   "id": "07762fe8-b269-4d85-91c0-39a9ddfd9e88",
   "metadata": {},
   "outputs": [],
   "source": [
    "#cube = cube[:,0:66]\n",
    "#cube = cube[:,66:99]\n",
    "#cube = cube[:,66:275]"
   ]
  },
  {
   "cell_type": "code",
   "execution_count": null,
   "id": "4ede9015-e819-4fe8-acc8-d4f3be6b8ffa",
   "metadata": {},
   "outputs": [],
   "source": [
    "cube.shape"
   ]
  },
  {
   "cell_type": "code",
   "execution_count": null,
   "id": "f6bc7acd-5a0f-44a9-a222-6fafa5c4a23f",
   "metadata": {},
   "outputs": [],
   "source": [
    "labels.shape"
   ]
  },
  {
   "cell_type": "code",
   "execution_count": null,
   "id": "f9f89549-6681-483d-b98c-23c20c9ed293",
   "metadata": {},
   "outputs": [],
   "source": [
    "np.sum(labels)"
   ]
  },
  {
   "cell_type": "code",
   "execution_count": null,
   "id": "3f1fe3c9-e067-4ef9-8693-c4626bcaebf0",
   "metadata": {},
   "outputs": [],
   "source": [
    "labels"
   ]
  },
  {
   "cell_type": "code",
   "execution_count": null,
   "id": "64ee1376-c513-4a30-b56b-92145dffcd10",
   "metadata": {},
   "outputs": [],
   "source": [
    "np.sum(np.isnan(cube))"
   ]
  },
  {
   "cell_type": "code",
   "execution_count": null,
   "id": "c1ff19a0-d42c-491b-80d0-202043ad68c4",
   "metadata": {},
   "outputs": [],
   "source": [
    "11*9"
   ]
  },
  {
   "cell_type": "code",
   "execution_count": null,
   "id": "e5c85602-7ace-4eba-a8d9-faa6bfb0c33c",
   "metadata": {},
   "outputs": [],
   "source": [
    "11*25"
   ]
  },
  {
   "cell_type": "code",
   "execution_count": null,
   "id": "ae9bc338-8529-456f-bcfd-583fcc2327f1",
   "metadata": {},
   "outputs": [],
   "source": [
    "11*6"
   ]
  },
  {
   "cell_type": "code",
   "execution_count": null,
   "id": "26d26254-0d2e-4b9f-8cf2-293002a9a850",
   "metadata": {},
   "outputs": [],
   "source": [
    "def norml(x):\n",
    "    return (x-np.min(x))/(np.max(x)-np.min(x))\n"
   ]
  },
  {
   "cell_type": "code",
   "execution_count": null,
   "id": "827b5a80-12c3-486f-b60d-3ff597ad67d3",
   "metadata": {},
   "outputs": [],
   "source": [
    "def norml2(x):\n",
    "    den = (np.nanmax(x)-np.nanmin(x))\n",
    "    if den>0:\n",
    "        #print(\"ya\")\n",
    "        res = (x-np.nanmin(x))/den\n",
    "    else: \n",
    "        print(\"bla\")\n",
    "        res = x\n",
    "    return res\n"
   ]
  },
  {
   "cell_type": "code",
   "execution_count": null,
   "id": "1218e36f-7656-42bf-8b37-2d0f5898a190",
   "metadata": {},
   "outputs": [],
   "source": [
    "def norml3(x,i):\n",
    "    #print(i)\n",
    "    minX = np.quantile(x[x>0], 0.01)\n",
    "    maxX = np.quantile(x[x>0], 0.99)\n",
    "    res = x\n",
    "    res[x<=minX]=minX\n",
    "    res[x>=maxX]=maxX\n",
    "    res = (res-minX)/(maxX-minX)\n",
    "    \n",
    "    return  res"
   ]
  },
  {
   "cell_type": "code",
   "execution_count": null,
   "id": "5a46589a-b986-4644-a1ea-f65bc88c0469",
   "metadata": {},
   "outputs": [],
   "source": [
    "np.max(cube)"
   ]
  },
  {
   "cell_type": "code",
   "execution_count": null,
   "id": "e6fea0a3-3100-4d84-8314-e7ab2941ded4",
   "metadata": {},
   "outputs": [],
   "source": [
    "#np.quantile(cube[:,145], 0.01)"
   ]
  },
  {
   "cell_type": "code",
   "execution_count": null,
   "id": "a4761ead-a937-4d4a-99cf-45456fdc6d8e",
   "metadata": {},
   "outputs": [],
   "source": [
    "#sns.distplot(cube[:,145])"
   ]
  },
  {
   "cell_type": "code",
   "execution_count": null,
   "id": "fa8f43a5-5ecc-4cd4-b9c8-2d4a536c4bee",
   "metadata": {},
   "outputs": [],
   "source": [
    "cube.shape"
   ]
  },
  {
   "cell_type": "code",
   "execution_count": null,
   "id": "b96dba92-0da0-4c75-bc47-bd92dfbf33b0",
   "metadata": {},
   "outputs": [],
   "source": [
    "i = 0\n",
    "cube = np.array([norml2(cube[:,i]) for i in range(cube.shape[1])])\n",
    "cube = np.transpose(cube,[1,0])\n",
    "cube.shape\n"
   ]
  },
  {
   "cell_type": "code",
   "execution_count": null,
   "id": "896aedeb-4dde-42a4-9282-06376b41b85d",
   "metadata": {},
   "outputs": [],
   "source": [
    "cube[np.isnan(cube)] = 0\n",
    "np.sum(np.isnan(cube))"
   ]
  },
  {
   "cell_type": "code",
   "execution_count": null,
   "id": "853f78af-7600-4d76-a283-64b03d90bc35",
   "metadata": {},
   "outputs": [],
   "source": [
    "np.prod(cube.shape)"
   ]
  },
  {
   "cell_type": "code",
   "execution_count": null,
   "id": "0565ac5d-45f7-4437-b1af-b0ad215f5b06",
   "metadata": {},
   "outputs": [],
   "source": [
    "np.sum(np.isinf(cube))"
   ]
  },
  {
   "cell_type": "code",
   "execution_count": null,
   "id": "a48a5f57-d903-4631-8453-ff3dcc6d0ef2",
   "metadata": {},
   "outputs": [],
   "source": [
    "25*11"
   ]
  },
  {
   "cell_type": "code",
   "execution_count": null,
   "id": "086b0f5e-4df0-401c-bc0e-fcc850fa2ece",
   "metadata": {},
   "outputs": [],
   "source": [
    "#cube = np.transpose(np.array([norml(cube[:,i,:,:]) for i in range(cube.shape[1])]),[1,0,2,3])"
   ]
  },
  {
   "cell_type": "code",
   "execution_count": null,
   "id": "5e7122ac-2998-488e-840c-444d67d1b3d3",
   "metadata": {},
   "outputs": [],
   "source": [
    "event_ids = np.array(keys[1][\"event_id\"])[np.array(keys[0][\"level1_key\"])]"
   ]
  },
  {
   "cell_type": "code",
   "execution_count": null,
   "id": "edbebe7f-57eb-47c6-9fbf-536bce676f2f",
   "metadata": {},
   "outputs": [],
   "source": [
    "len(dp.flatten(keys[1][\"full_flag_now\"]))"
   ]
  },
  {
   "cell_type": "code",
   "execution_count": null,
   "id": "b0be7d05-0c12-4269-b867-f2693c470d86",
   "metadata": {},
   "outputs": [],
   "source": [
    "len(dp.flatten(keys[1][\"flag_then\"]))"
   ]
  },
  {
   "cell_type": "code",
   "execution_count": null,
   "id": "993be7e7-8550-46a5-946d-e3ab70c0d2d5",
   "metadata": {},
   "outputs": [],
   "source": [
    "repos = \"../data/\"\n",
    "file = \"wildfires.pkl\"\n",
    "wildfires = pickle5.load( open( repos+file, \"rb\" ) )\n",
    "wildfires.loc[pd.isnull(wildfires.wildfire_id),\"wildfire_id\"] = wildfires.loc[pd.isnull(wildfires.wildfire_id),\"pyroCb_id\"]"
   ]
  },
  {
   "cell_type": "code",
   "execution_count": null,
   "id": "fb186e74-e91d-4ec5-aae8-af5b7f148919",
   "metadata": {},
   "outputs": [],
   "source": [
    "wildfires.head()"
   ]
  },
  {
   "cell_type": "code",
   "execution_count": null,
   "id": "7f84bd41-078e-43c4-9b33-9e3af2c2e00d",
   "metadata": {},
   "outputs": [],
   "source": [
    "pyrocb_id = [int(ei.split(\"_\")[0]) for ei in event_ids.tolist()]"
   ]
  },
  {
   "cell_type": "code",
   "execution_count": null,
   "id": "2ad1d840-4306-4f68-825e-03a03ce0d6d2",
   "metadata": {},
   "outputs": [],
   "source": [
    "event_df = pd.DataFrame({\"pyrocb_id\":pyrocb_id, \"event_id\":event_ids, \"full_flag_now\":dp.flatten(keys[1][\"full_flag_now\"]), \"flag_then\":dp.flatten(keys[1][\"flag_then\"])})\n",
    "event_df.head()"
   ]
  },
  {
   "cell_type": "code",
   "execution_count": null,
   "id": "2f8eabcf-7a3a-46fd-ac3e-0befb0a9820e",
   "metadata": {},
   "outputs": [],
   "source": [
    "event_df = event_df.merge(wildfires[[\"pyroCb_id\",\"wildfire_id\"]], how=\"left\", left_on=\"pyrocb_id\", right_on=\"pyroCb_id\")\n",
    "event_df.shape"
   ]
  },
  {
   "cell_type": "code",
   "execution_count": null,
   "id": "ed551f11-5569-42a2-8225-96a0940135f8",
   "metadata": {},
   "outputs": [],
   "source": [
    "event_df = pd.concat([event_df, pd.DataFrame(envVars,columns=[\"lon\",\"lat\",\"date\",\"year\",\"sat\"])], axis=1)\n",
    "event_df.shape"
   ]
  },
  {
   "cell_type": "code",
   "execution_count": null,
   "id": "cdc21649-ce43-4a3f-9aea-dd35da22c134",
   "metadata": {},
   "outputs": [],
   "source": [
    "indx, = np.where(event_df.full_flag_now<4)\n",
    "indx.shape"
   ]
  },
  {
   "cell_type": "code",
   "execution_count": 60,
   "id": "01612ecd-47d0-4329-a8fa-28f5105dd5d9",
   "metadata": {},
   "outputs": [
    {
     "ename": "NameError",
     "evalue": "name 'cube' is not defined",
     "output_type": "error",
     "traceback": [
      "\u001b[0;31m---------------------------------------------------------------------------\u001b[0m",
      "\u001b[0;31mNameError\u001b[0m                                 Traceback (most recent call last)",
      "\u001b[0;32m/tmp/ipykernel_5455/2852451399.py\u001b[0m in \u001b[0;36m<module>\u001b[0;34m\u001b[0m\n\u001b[1;32m      4\u001b[0m \u001b[0;31m#envVars = envVars[indx,]\u001b[0m\u001b[0;34m\u001b[0m\u001b[0;34m\u001b[0m\u001b[0;34m\u001b[0m\u001b[0m\n\u001b[1;32m      5\u001b[0m \u001b[0;31m#event_df = event_df.iloc[indx]\u001b[0m\u001b[0;34m\u001b[0m\u001b[0;34m\u001b[0m\u001b[0;34m\u001b[0m\u001b[0m\n\u001b[0;32m----> 6\u001b[0;31m \u001b[0mcube\u001b[0m\u001b[0;34m.\u001b[0m\u001b[0mshape\u001b[0m\u001b[0;34m\u001b[0m\u001b[0;34m\u001b[0m\u001b[0m\n\u001b[0m",
      "\u001b[0;31mNameError\u001b[0m: name 'cube' is not defined"
     ]
    }
   ],
   "source": [
    "# exlcude pyrocbs now\n",
    "#cube = cube[indx,]\n",
    "#labels = labels[indx,]\n",
    "#envVars = envVars[indx,]\n",
    "#event_df = event_df.iloc[indx]\n",
    "cube.shape"
   ]
  },
  {
   "cell_type": "code",
   "execution_count": 61,
   "id": "b0ced2fd-a173-41f3-b8f7-aff6c9182f32",
   "metadata": {},
   "outputs": [
    {
     "ename": "NameError",
     "evalue": "name 'event_df' is not defined",
     "output_type": "error",
     "traceback": [
      "\u001b[0;31m---------------------------------------------------------------------------\u001b[0m",
      "\u001b[0;31mNameError\u001b[0m                                 Traceback (most recent call last)",
      "\u001b[0;32m/tmp/ipykernel_5455/2685243047.py\u001b[0m in \u001b[0;36m<module>\u001b[0;34m\u001b[0m\n\u001b[0;32m----> 1\u001b[0;31m \u001b[0mseg_base\u001b[0m \u001b[0;34m=\u001b[0m \u001b[0mevent_df\u001b[0m\u001b[0;34m.\u001b[0m\u001b[0mdrop_duplicates\u001b[0m\u001b[0;34m(\u001b[0m\u001b[0;34m'wildfire_id'\u001b[0m\u001b[0;34m)\u001b[0m\u001b[0;34m\u001b[0m\u001b[0;34m\u001b[0m\u001b[0m\n\u001b[0m\u001b[1;32m      2\u001b[0m \u001b[0mseg_base\u001b[0m\u001b[0;34m.\u001b[0m\u001b[0mshape\u001b[0m\u001b[0;34m\u001b[0m\u001b[0;34m\u001b[0m\u001b[0m\n",
      "\u001b[0;31mNameError\u001b[0m: name 'event_df' is not defined"
     ]
    }
   ],
   "source": [
    "seg_base = event_df.drop_duplicates('wildfire_id')\n",
    "seg_base.shape"
   ]
  },
  {
   "cell_type": "code",
   "execution_count": 62,
   "id": "bfa8b8ba-30c7-45d9-8c7c-ccd51e2dc535",
   "metadata": {},
   "outputs": [
    {
     "ename": "NameError",
     "evalue": "name 'seg_base' is not defined",
     "output_type": "error",
     "traceback": [
      "\u001b[0;31m---------------------------------------------------------------------------\u001b[0m",
      "\u001b[0;31mNameError\u001b[0m                                 Traceback (most recent call last)",
      "\u001b[0;32m/tmp/ipykernel_5455/243615763.py\u001b[0m in \u001b[0;36m<module>\u001b[0;34m\u001b[0m\n\u001b[1;32m      1\u001b[0m \u001b[0;31m# GOES = 1, HIMAWARI = 0\u001b[0m\u001b[0;34m\u001b[0m\u001b[0;34m\u001b[0m\u001b[0;34m\u001b[0m\u001b[0m\n\u001b[0;32m----> 2\u001b[0;31m \u001b[0mseg_base\u001b[0m\u001b[0;34m[\u001b[0m\u001b[0;34m[\u001b[0m\u001b[0;34m\"pyrocb_id\"\u001b[0m\u001b[0;34m,\u001b[0m\u001b[0;34m\"sat\"\u001b[0m\u001b[0;34m]\u001b[0m\u001b[0;34m]\u001b[0m\u001b[0;34m.\u001b[0m\u001b[0mgroupby\u001b[0m\u001b[0;34m(\u001b[0m\u001b[0;34m[\u001b[0m\u001b[0;34m\"sat\"\u001b[0m\u001b[0;34m]\u001b[0m\u001b[0;34m)\u001b[0m\u001b[0;34m.\u001b[0m\u001b[0mcount\u001b[0m\u001b[0;34m(\u001b[0m\u001b[0;34m)\u001b[0m\u001b[0;34m\u001b[0m\u001b[0;34m\u001b[0m\u001b[0m\n\u001b[0m",
      "\u001b[0;31mNameError\u001b[0m: name 'seg_base' is not defined"
     ]
    }
   ],
   "source": [
    "# GOES = 1, HIMAWARI = 0\n",
    "seg_base[[\"pyrocb_id\",\"sat\"]].groupby([\"sat\"]).count()"
   ]
  },
  {
   "cell_type": "code",
   "execution_count": 63,
   "id": "5427a1e0-a804-4573-b9dd-c2aed3edcbe4",
   "metadata": {},
   "outputs": [
    {
     "ename": "NameError",
     "evalue": "name 'seg_base' is not defined",
     "output_type": "error",
     "traceback": [
      "\u001b[0;31m---------------------------------------------------------------------------\u001b[0m",
      "\u001b[0;31mNameError\u001b[0m                                 Traceback (most recent call last)",
      "\u001b[0;32m/tmp/ipykernel_5455/112953388.py\u001b[0m in \u001b[0;36m<module>\u001b[0;34m\u001b[0m\n\u001b[1;32m      1\u001b[0m \u001b[0;31m# GOES = 1, HIMAWARI = 0\u001b[0m\u001b[0;34m\u001b[0m\u001b[0;34m\u001b[0m\u001b[0;34m\u001b[0m\u001b[0m\n\u001b[0;32m----> 2\u001b[0;31m \u001b[0mseg_base\u001b[0m\u001b[0;34m[\u001b[0m\u001b[0;34m[\u001b[0m\u001b[0;34m\"pyrocb_id\"\u001b[0m\u001b[0;34m,\u001b[0m\u001b[0;34m\"sat\"\u001b[0m\u001b[0;34m,\u001b[0m\u001b[0;34m\"year\"\u001b[0m\u001b[0;34m]\u001b[0m\u001b[0;34m]\u001b[0m\u001b[0;34m.\u001b[0m\u001b[0mgroupby\u001b[0m\u001b[0;34m(\u001b[0m\u001b[0;34m[\u001b[0m\u001b[0;34m\"sat\"\u001b[0m\u001b[0;34m,\u001b[0m\u001b[0;34m\"year\"\u001b[0m\u001b[0;34m]\u001b[0m\u001b[0;34m)\u001b[0m\u001b[0;34m.\u001b[0m\u001b[0mcount\u001b[0m\u001b[0;34m(\u001b[0m\u001b[0;34m)\u001b[0m\u001b[0;34m\u001b[0m\u001b[0;34m\u001b[0m\u001b[0m\n\u001b[0m",
      "\u001b[0;31mNameError\u001b[0m: name 'seg_base' is not defined"
     ]
    }
   ],
   "source": [
    "# GOES = 1, HIMAWARI = 0\n",
    "seg_base[[\"pyrocb_id\",\"sat\",\"year\"]].groupby([\"sat\",\"year\"]).count()"
   ]
  },
  {
   "cell_type": "code",
   "execution_count": 64,
   "id": "ab2707a9-ad7d-43dd-8b3f-1a1227e53b2e",
   "metadata": {},
   "outputs": [
    {
     "ename": "NameError",
     "evalue": "name 'seg_base' is not defined",
     "output_type": "error",
     "traceback": [
      "\u001b[0;31m---------------------------------------------------------------------------\u001b[0m",
      "\u001b[0;31mNameError\u001b[0m                                 Traceback (most recent call last)",
      "\u001b[0;32m/tmp/ipykernel_5455/2914390374.py\u001b[0m in \u001b[0;36m<module>\u001b[0;34m\u001b[0m\n\u001b[0;32m----> 1\u001b[0;31m \u001b[0mseg_base\u001b[0m\u001b[0;34m[\u001b[0m\u001b[0;34m[\u001b[0m\u001b[0;34m\"sat\"\u001b[0m\u001b[0;34m,\u001b[0m\u001b[0;34m\"lon\"\u001b[0m\u001b[0;34m,\u001b[0m\u001b[0;34m\"lat\"\u001b[0m\u001b[0;34m,\u001b[0m\u001b[0;34m\"date\"\u001b[0m\u001b[0;34m]\u001b[0m\u001b[0;34m]\u001b[0m\u001b[0;34m.\u001b[0m\u001b[0mhead\u001b[0m\u001b[0;34m(\u001b[0m\u001b[0;34m)\u001b[0m\u001b[0;34m\u001b[0m\u001b[0;34m\u001b[0m\u001b[0m\n\u001b[0m",
      "\u001b[0;31mNameError\u001b[0m: name 'seg_base' is not defined"
     ]
    }
   ],
   "source": [
    "seg_base[[\"sat\",\"lon\",\"lat\",\"date\"]].head()"
   ]
  },
  {
   "cell_type": "code",
   "execution_count": null,
   "id": "99cf787a-1b77-4d20-bb29-3e0e3cc71374",
   "metadata": {},
   "outputs": [],
   "source": []
  },
  {
   "cell_type": "code",
   "execution_count": null,
   "id": "91822963-3af8-4cab-a0f0-e3d8da9817ac",
   "metadata": {},
   "outputs": [],
   "source": [
    "def stdze(x):\n",
    "    return (x-np.mean(x))/np.std(x)"
   ]
  },
  {
   "cell_type": "code",
   "execution_count": null,
   "id": "06760868-e18d-4c27-b6eb-a148a0011ccd",
   "metadata": {},
   "outputs": [],
   "source": [
    "def addCluster(seg_base, num_clusters,seed):\n",
    "    np.random.seed(seed=seed)\n",
    "    rnds = np.floor(np.arange(0,seg_base.shape[0])/17).astype(int)\n",
    "    #seg_base2 = seg_base[[\"sat\",\"lon\",\"lat\",\"date\"]].to_numpy()\n",
    "    seg_base2 = seg_base[[\"sat\",\"lon\",\"lat\"]].to_numpy()\n",
    "    seg_base2 = np.array([stdze(seg_base2[:,i]) for i in range(seg_base2.shape[1])]).T\n",
    "    N = seg_base2.shape[0]\n",
    "    cluster_size = N//num_clusters\n",
    "    print(\"cluster size: \", cluster_size)\n",
    "    labs = -1*np.ones(N)\n",
    "    kmeans = KMeans(n_clusters=num_clusters, random_state=0).fit(seg_base2)\n",
    "    grps = kmeans.labels_\n",
    "    ids, cnt = np.unique(grps, return_counts=True)\n",
    "    print(pd.DataFrame({\"cluster\":ids,\"count\":cnt}))\n",
    "    o = np.argsort(cnt)\n",
    "    DistMat = kmeans.fit_transform(seg_base2)\n",
    "    \n",
    "    # initialize\n",
    "    indx_obs = np.arange(seg_base2.shape[0]).tolist()\n",
    "    indx_cluster = ids[o][::-1].tolist()\n",
    "    \n",
    "    # loop through clusters from smallest to largest\n",
    "    for i in range(len(indx_obs)):\n",
    "        #print(\"i: \", i)\n",
    "        o2 = np.argsort(DistMat[indx_obs,indx_cluster[0]])\n",
    "        indx_lab = np.array(indx_obs)[o2[0]]\n",
    "        labs[indx_lab] = indx_cluster[0]\n",
    "        indx_cluster.pop(0)\n",
    "        if len(indx_cluster)==0:\n",
    "            indx_cluster = ids[o][::-1].tolist()\n",
    "        indx_obs = list(set(indx_obs).difference([indx_lab]))\n",
    "    \n",
    "    \n",
    "    #seg_base[\"cluster\"]=np.array(labs).astype(int)\n",
    "    seg_base[\"cluster_regional\"]=np.array(grps).astype(int)\n",
    "    seg_base[\"cluster_random\"]=np.array(rnds).astype(int)\n",
    "    return seg_base, seg_base2"
   ]
  },
  {
   "cell_type": "code",
   "execution_count": null,
   "id": "e7e7a501-175e-4d93-9ff7-ef79f7053b77",
   "metadata": {},
   "outputs": [],
   "source": [
    "rand = np.floor(np.arange(0,seg_base.shape[0])/17).astype(int)\n",
    "cnt, uni = np.unique(rand, return_counts=True)\n",
    "{\"cnt\":cnt, \"uni\":uni}"
   ]
  },
  {
   "cell_type": "code",
   "execution_count": null,
   "id": "547e9c3b-42c0-4ed1-96ab-f8ae8ddd6902",
   "metadata": {},
   "outputs": [],
   "source": [
    "83/5"
   ]
  },
  {
   "cell_type": "code",
   "execution_count": null,
   "id": "a00c2930-12ab-4fa2-8507-815c25ba5540",
   "metadata": {},
   "outputs": [],
   "source": [
    "num_clusters=5\n",
    "seed = 123456\n",
    "seg_base, X = addCluster(seg_base, num_clusters=num_clusters, seed=seed)"
   ]
  },
  {
   "cell_type": "code",
   "execution_count": null,
   "id": "28da61ee-7ecf-495f-9932-6f9d64299eed",
   "metadata": {},
   "outputs": [],
   "source": [
    "results_root = \"..//results/\"\n",
    "version = \"v0\"\n",
    "file = \"seg_base\"\n",
    "fileRes = results_root+file+\"_\"+version+\".pkl\" \n",
    "fileRes"
   ]
  },
  {
   "cell_type": "code",
   "execution_count": null,
   "id": "29ee0fcc-9ec3-4eb3-943a-17dc41ea16f9",
   "metadata": {},
   "outputs": [],
   "source": [
    "with open(fileRes, 'wb') as output:  # Overwrites any existing file.\n",
    "        pickle.dump(seg_base, output, pickle.HIGHEST_PROTOCOL)\n"
   ]
  },
  {
   "cell_type": "code",
   "execution_count": null,
   "id": "bf167f16-6180-4c71-bd25-c671ce678581",
   "metadata": {},
   "outputs": [],
   "source": [
    "cluster_var = \"cluster_random\"\n",
    "#cluster_var = \"cluster_regional\"\n",
    "seg_base[[\"pyrocb_id\",cluster_var]].groupby(cluster_var).count()"
   ]
  },
  {
   "cell_type": "code",
   "execution_count": null,
   "id": "c6314867-222d-4c8c-8fa9-ffe62e3ad200",
   "metadata": {},
   "outputs": [],
   "source": [
    "metrics.silhouette_score(X, seg_base[cluster_var], metric='euclidean')"
   ]
  },
  {
   "cell_type": "code",
   "execution_count": null,
   "id": "24903513-fe60-493a-969e-d88dd6bff51a",
   "metadata": {},
   "outputs": [],
   "source": [
    "N = seg_base.shape[0]\n",
    "cluster_size = N//num_clusters\n",
    "\n",
    "rand_labs = np.arange(seg_base.shape[0])\n",
    "rand_labs = (rand_labs//cluster_size)%num_clusters\n",
    "indx = np.random.choice(seg_base.shape[0], size=seg_base.shape[0], replace=False)\n",
    "rand_labs = rand_labs[indx]"
   ]
  },
  {
   "cell_type": "code",
   "execution_count": null,
   "id": "9690d3a4-10d1-4928-9402-99b927efaa98",
   "metadata": {},
   "outputs": [],
   "source": [
    "metrics.silhouette_score(X, rand_labs, metric='euclidean')"
   ]
  },
  {
   "cell_type": "code",
   "execution_count": null,
   "id": "61cc2f79-2829-4418-b120-ac694159d5c8",
   "metadata": {},
   "outputs": [],
   "source": [
    "seg_base.head()"
   ]
  },
  {
   "cell_type": "code",
   "execution_count": null,
   "id": "4edf5592-80b4-4e4a-b9ae-724f4b3b395d",
   "metadata": {},
   "outputs": [],
   "source": [
    "results_root = \"/home/jupyter/ML_ready/results/\"\n",
    "typee = cluster_var\n",
    "fileRes = results_root+typee+\"_clustering.png\"\n",
    "fileRes"
   ]
  },
  {
   "cell_type": "code",
   "execution_count": null,
   "id": "1ee4ab64-cf7e-4d56-ad92-859e360dea0b",
   "metadata": {},
   "outputs": [],
   "source": [
    "i = 0\n",
    "fig, ax = plt.subplots(1, 2, figsize=(6, 6))  # setup the plot\n",
    "for i in np.unique(seg_base[cluster_var]):\n",
    "    scat1 = ax[0].scatter(seg_base.loc[seg_base[cluster_var]==i][\"lon\"], seg_base.loc[seg_base[cluster_var]==i][\"lat\"], label=i)#, s=date_norm\n",
    "    scat1 = ax[1].scatter(seg_base.loc[seg_base[cluster_var]==i][\"lon\"], seg_base.loc[seg_base[cluster_var]==i][\"lat\"], label=i)\n",
    "ax[0].set_xlim([np.min(seg_base[\"lon\"])-2, -100])\n",
    "ax[0].set_ylim([30,np.max(seg_base[\"lat\"])+2])\n",
    "\n",
    "ax[1].set_xlim([115,np.max(seg_base[\"lon\"])+1])\n",
    "ax[1].set_ylim([np.min(seg_base[\"lat\"])-2, -10])\n",
    "\n",
    "\n",
    "fig.text(0.5, 0.04, 'longitude', ha='center')\n",
    "fig.text(0.04, 0.5, 'latitude', va='center', rotation='vertical')\n",
    "\n",
    "\n",
    "\n",
    "ax[0].set_title('North America')\n",
    "ax[1].set_title('Australia')\n",
    "ax[1].legend(bbox_to_anchor=(1.32, 1.0))\n",
    "#plt.savefig(fileRes, format='png', dpi=300)\n"
   ]
  },
  {
   "cell_type": "code",
   "execution_count": null,
   "id": "cee6332b-2dc0-4ece-b5a6-484558693441",
   "metadata": {},
   "outputs": [],
   "source": [
    "event_df = event_df.merge(seg_base[[\"wildfire_id\",\"cluster_regional\",\"cluster_random\"]], how=\"left\",on=\"wildfire_id\")"
   ]
  },
  {
   "cell_type": "code",
   "execution_count": null,
   "id": "46d22e6e-1adc-435a-97a9-749b73c60afa",
   "metadata": {},
   "outputs": [],
   "source": [
    "event_df.head()"
   ]
  },
  {
   "cell_type": "code",
   "execution_count": null,
   "id": "c1fbf629-7fe2-488e-bf07-5f43c99a4a50",
   "metadata": {},
   "outputs": [],
   "source": [
    "event_df[[\"pyrocb_id\",cluster_var]].groupby(cluster_var).count()"
   ]
  },
  {
   "cell_type": "code",
   "execution_count": null,
   "id": "863593dd-6c09-47bd-bfad-3aad7d463b6b",
   "metadata": {},
   "outputs": [],
   "source": [
    "event_df.shape"
   ]
  },
  {
   "cell_type": "code",
   "execution_count": null,
   "id": "20cef9ec-f4dd-49cb-8932-0d5fdc78dc35",
   "metadata": {},
   "outputs": [],
   "source": [
    "#file = \"/home/jupyter/elevation/alwdgg.tif\"\n",
    "#da = xr.open_rasterio(file)\n",
    "#alt = [da.interp(x=event_df.iloc[i].lon, y = event_df.iloc[i].lat, method=\"linear\").values[0] for i in range(event_df.shape[0])]"
   ]
  },
  {
   "cell_type": "code",
   "execution_count": null,
   "id": "dd9cf98f-bc4f-4a0c-90da-440d3297d927",
   "metadata": {},
   "outputs": [],
   "source": [
    "#event_df[\"altitude\"] = alt\n",
    "#def meanAlt(x):\n",
    "#    return np.mean(x.altitude)\n",
    "#event_df[[\"pyrocb_id\",\"cluster\",\"altitude\"]].groupby(\"cluster\").apply(meanAlt)"
   ]
  },
  {
   "cell_type": "code",
   "execution_count": null,
   "id": "78e18418-41d0-48a7-b0df-d7a5b4938b53",
   "metadata": {},
   "outputs": [],
   "source": [
    "print(envVars.shape)\n",
    "print(cube.shape)\n",
    "print(labels.shape)\n",
    "print(len(keys[0][\"level1_key\"]))"
   ]
  },
  {
   "cell_type": "code",
   "execution_count": null,
   "id": "e10ceadd-398f-49ac-867e-0def9b80218b",
   "metadata": {},
   "outputs": [],
   "source": [
    "plt.plot(envVars[:,2])"
   ]
  },
  {
   "cell_type": "code",
   "execution_count": null,
   "id": "367c98e1-9a99-48f8-ada4-d9b5650d4c0b",
   "metadata": {},
   "outputs": [],
   "source": [
    "mu_env = [np.mean(envVars[:,i]) for i in range(envVars.shape[1])]\n",
    "sigma_env = [np.std(envVars[:,i]) for i in range(envVars.shape[1])]"
   ]
  },
  {
   "cell_type": "code",
   "execution_count": null,
   "id": "5ca63d17-0b8d-4648-a33f-c973de8e410f",
   "metadata": {},
   "outputs": [],
   "source": [
    "mu_env"
   ]
  },
  {
   "cell_type": "code",
   "execution_count": null,
   "id": "13e5e8c5-8650-4778-993a-fb629d8e10ec",
   "metadata": {},
   "outputs": [],
   "source": [
    "sigma_env"
   ]
  },
  {
   "cell_type": "code",
   "execution_count": null,
   "id": "8b78ef30-ea01-4d24-ad8f-7905677c813d",
   "metadata": {},
   "outputs": [],
   "source": [
    "satellite_list = dp.flatten(keys[1][\"satellite\"])"
   ]
  },
  {
   "cell_type": "code",
   "execution_count": null,
   "id": "10d7325a-556a-4fb8-b6f7-9f8fd662a918",
   "metadata": {},
   "outputs": [],
   "source": [
    "satellite_list = np.array(satellite_list)"
   ]
  },
  {
   "cell_type": "code",
   "execution_count": null,
   "id": "08163dc5-2959-4d59-800d-16ea5617e458",
   "metadata": {},
   "outputs": [],
   "source": [
    "event_ids = np.array(keys[1][\"event_id\"])[np.array(keys[0][\"level1_key\"])]"
   ]
  },
  {
   "cell_type": "code",
   "execution_count": null,
   "id": "748bad6f-6743-4133-ac1a-faf7e0cd92e2",
   "metadata": {},
   "outputs": [],
   "source": [
    "aux = [(e,v) for (e,v) in zip(event_ids.astype(float), envVars[:,2])]"
   ]
  },
  {
   "cell_type": "code",
   "execution_count": null,
   "id": "e020dd1e-c0f9-407c-9667-79d9e17e2539",
   "metadata": {},
   "outputs": [],
   "source": [
    "aux = np.array( aux, dtype=[('x', 'float'), ('y', 'float')])\n",
    "aux.shape\n"
   ]
  },
  {
   "cell_type": "code",
   "execution_count": null,
   "id": "59715a3f-08f3-44d1-b56f-489d5a18cfa4",
   "metadata": {},
   "outputs": [],
   "source": [
    "o = np.argsort(aux, order=('x','y'))\n"
   ]
  },
  {
   "cell_type": "code",
   "execution_count": null,
   "id": "76734363-fec8-45c7-80dd-e49f829b42e8",
   "metadata": {},
   "outputs": [],
   "source": [
    "plt.plot(o)"
   ]
  },
  {
   "cell_type": "code",
   "execution_count": null,
   "id": "326c9d05-de4c-4036-a3d7-05d08a781aa7",
   "metadata": {},
   "outputs": [],
   "source": [
    "event_ids[o]"
   ]
  },
  {
   "cell_type": "code",
   "execution_count": null,
   "id": "de2a0f55-a1fe-47d2-9f7f-7eb302a63364",
   "metadata": {},
   "outputs": [],
   "source": [
    "envVars[o,2]"
   ]
  },
  {
   "cell_type": "code",
   "execution_count": null,
   "id": "ddcfcd17-418c-4e12-99cb-1d53afa35eb3",
   "metadata": {},
   "outputs": [],
   "source": [
    "#o = np.argsort(envVars[:,2])\n",
    "#envVars = envVars[o,:]\n",
    "#cube = cube[o,:]\n",
    "#labels = labels[o]\n",
    "#satellite_list = satellite_list[o]\n",
    "#event_df= event_df.iloc[o]"
   ]
  },
  {
   "cell_type": "code",
   "execution_count": null,
   "id": "749638ad-737c-401b-8090-fe927f0213d8",
   "metadata": {},
   "outputs": [],
   "source": [
    "\n",
    "#envVars = envVars[indxKeep,:]\n",
    "#cube = cube[indxKeep,:]\n",
    "#labels = labels[indxKeep]\n",
    "#satellite_list = satellite_list[indxKeep]\n",
    "#event_df= event_df.iloc[indxKeep]"
   ]
  },
  {
   "cell_type": "code",
   "execution_count": null,
   "id": "0f3920f6-3034-45b0-9539-a366f458fccb",
   "metadata": {},
   "outputs": [],
   "source": [
    "cube.shape"
   ]
  },
  {
   "cell_type": "code",
   "execution_count": null,
   "id": "199452f0-2ca2-43ad-93be-ca4f2d7116e2",
   "metadata": {},
   "outputs": [],
   "source": [
    "cube.shape"
   ]
  },
  {
   "cell_type": "code",
   "execution_count": null,
   "id": "053525a8-8db8-46f3-8ab9-23fd7a3cfb3b",
   "metadata": {},
   "outputs": [],
   "source": [
    "event_df.shape"
   ]
  },
  {
   "cell_type": "code",
   "execution_count": null,
   "id": "63872533-ef29-4236-9ee2-279612be7e41",
   "metadata": {},
   "outputs": [],
   "source": [
    "np.sum(event_df.flag_then)"
   ]
  },
  {
   "cell_type": "code",
   "execution_count": null,
   "id": "a298ded0-099d-48f4-925d-e1571970aa18",
   "metadata": {},
   "outputs": [],
   "source": [
    "np.sum(labels)"
   ]
  },
  {
   "cell_type": "code",
   "execution_count": null,
   "id": "8fcca297-6d47-4543-99df-19e133825fa1",
   "metadata": {},
   "outputs": [],
   "source": [
    "event_df[[\"flag_then\",cluster_var,\"pyrocb_id\"]].groupby([cluster_var,\"flag_then\"]).count()"
   ]
  },
  {
   "cell_type": "code",
   "execution_count": null,
   "id": "dc4d1b89-9e56-4c96-abbd-6c93bed554d1",
   "metadata": {},
   "outputs": [],
   "source": [
    "event_df[[\"flag_then\",\"full_flag_now\",\"pyrocb_id\"]].groupby([\"full_flag_now\",\"flag_then\"]).count()"
   ]
  },
  {
   "cell_type": "code",
   "execution_count": null,
   "id": "9d0e78ef-9a57-441d-9f18-93a83b4528f0",
   "metadata": {},
   "outputs": [],
   "source": [
    "# cluster, wildfire_id, red_flag_now, flag_then"
   ]
  },
  {
   "cell_type": "code",
   "execution_count": null,
   "id": "7a4c5cdb-cfe6-476b-ba44-be0105217cfb",
   "metadata": {},
   "outputs": [],
   "source": [
    "event_df[[\"pyrocb_id\",\"full_flag_now\"]].groupby(\"full_flag_now\").count()"
   ]
  },
  {
   "cell_type": "code",
   "execution_count": null,
   "id": "5c6b8851-ec80-4a4e-8844-c48de8d9a02b",
   "metadata": {},
   "outputs": [],
   "source": [
    "mydict = {0:\"none\", 1:\"none\", 2:\"conv\", 3:\"deep conv\",4:\"pyrocb\"}"
   ]
  },
  {
   "cell_type": "code",
   "execution_count": null,
   "id": "59a9b3a3-9f19-4341-8823-7e77855095cf",
   "metadata": {},
   "outputs": [],
   "source": [
    "event_df[\"red_flag_now\"] =event_df[\"full_flag_now\"].replace(mydict)\n",
    "event_df[[\"pyrocb_id\",\"red_flag_now\"]].groupby(\"red_flag_now\").count()"
   ]
  },
  {
   "cell_type": "code",
   "execution_count": null,
   "id": "f7ee569b-a13f-4bf9-a202-b919d8296652",
   "metadata": {},
   "outputs": [],
   "source": [
    "event_df.head()"
   ]
  },
  {
   "cell_type": "code",
   "execution_count": null,
   "id": "9056c078-631f-4c67-8180-9d415494a768",
   "metadata": {},
   "outputs": [],
   "source": [
    "#cluster = 0\n",
    "#event_df_clus = event_df.loc[event_df.cluster==cluster]\n",
    "tab = event_df[[\"cluster_regional\",\"cluster_random\",\"pyrocb_id\",\"wildfire_id\",\"red_flag_now\",\"flag_then\"]].groupby([cluster_var,\"wildfire_id\",\"red_flag_now\",\"flag_then\"]).count()"
   ]
  },
  {
   "cell_type": "code",
   "execution_count": null,
   "id": "747fefff-c308-44ab-9b11-d4bde29eb208",
   "metadata": {},
   "outputs": [],
   "source": [
    "np.all(tab.to_numpy()>0)"
   ]
  },
  {
   "cell_type": "code",
   "execution_count": null,
   "id": "4fb51830-ba15-487b-8da9-b3e858d01f4e",
   "metadata": {},
   "outputs": [],
   "source": [
    "tab = tab.reset_index().rename(columns={\"pyrocb_id\":\"freq\"})"
   ]
  },
  {
   "cell_type": "code",
   "execution_count": null,
   "id": "2866eac3-5fb0-45d2-a839-bd85a115ba19",
   "metadata": {},
   "outputs": [],
   "source": [
    "np.max(tab.freq)"
   ]
  },
  {
   "cell_type": "code",
   "execution_count": null,
   "id": "95ea2c1a-31b8-4570-bba9-6f41703854b5",
   "metadata": {},
   "outputs": [],
   "source": [
    "np.max(tab.freq)*tab.shape[0]"
   ]
  },
  {
   "cell_type": "code",
   "execution_count": null,
   "id": "ceffd370-00ec-4a59-bbee-42fb21209c3f",
   "metadata": {},
   "outputs": [],
   "source": [
    "tab[\"weight\"]= 1/tab.freq"
   ]
  },
  {
   "cell_type": "code",
   "execution_count": null,
   "id": "01069684-88a6-4504-bed4-ab3c13801906",
   "metadata": {},
   "outputs": [],
   "source": [
    "tab.head()"
   ]
  },
  {
   "cell_type": "code",
   "execution_count": null,
   "id": "715c4f60-d49e-4701-96ef-f0136682d969",
   "metadata": {},
   "outputs": [],
   "source": [
    "event_df = event_df.merge(tab[[\"cluster_regional\",\"cluster_random\",\"wildfire_id\",\"red_flag_now\",\"flag_then\",\"weight\"]], how=\"left\", on=[\"cluster_regional\",\"cluster_random\",\"wildfire_id\",\"red_flag_now\",\"flag_then\"])"
   ]
  },
  {
   "cell_type": "code",
   "execution_count": null,
   "id": "40b55beb-f7a2-4474-8c99-23accf3c2431",
   "metadata": {},
   "outputs": [],
   "source": [
    "mu = [np.mean(cube[:,i]) for i in range(cube.shape[1])]\n",
    "sigma = [np.std(cube[:,i]) for i in range(cube.shape[1])]"
   ]
  },
  {
   "cell_type": "code",
   "execution_count": null,
   "id": "260858af-9308-4a6b-a88f-6e20537a3e83",
   "metadata": {},
   "outputs": [],
   "source": [
    "from sklearn.model_selection import train_test_split"
   ]
  },
  {
   "cell_type": "code",
   "execution_count": null,
   "id": "0241154f-4e79-4263-a7b0-dc7cf4c0365d",
   "metadata": {},
   "outputs": [],
   "source": [
    "#X_train, X_val, y_train, y_val = train_test_split(big_datacube, flag_list, test_size=0.20, random_state=42, stratify=None, shuffle=False)\n",
    "#y_val.shape"
   ]
  },
  {
   "cell_type": "code",
   "execution_count": null,
   "id": "be2f0c03-49ed-4984-96e3-75b7fe8753ee",
   "metadata": {},
   "outputs": [],
   "source": [
    "cutoff = int(envVars.shape[0]*0.8)\n",
    "cutoff"
   ]
  },
  {
   "cell_type": "code",
   "execution_count": null,
   "id": "92c8178f-136c-4c38-9f6c-9a24bf1fd7f8",
   "metadata": {},
   "outputs": [],
   "source": [
    "cube.shape"
   ]
  },
  {
   "cell_type": "code",
   "execution_count": null,
   "id": "c828bd7b-7947-4130-9a8a-52071f40dcd7",
   "metadata": {},
   "outputs": [],
   "source": [
    "np.sum(np.isnan(cube))"
   ]
  },
  {
   "cell_type": "code",
   "execution_count": null,
   "id": "a6b77c53-66dc-4cb0-90b5-0825dddb760c",
   "metadata": {},
   "outputs": [],
   "source": [
    "# By satellite and day\n",
    "#indx1,  = np.where(satellite_list != \"Himawari\")\n",
    "#num_rem = int(cube.shape[0]*0.2)-indx1.shape[0]\n",
    "#print(num_rem )\n",
    "#indx2, = np.where(satellite_list == \"Himawari\")\n",
    "#indx2 = indx2[0:num_rem]\n",
    "#indx_val = np.hstack([indx1, indx2])\n",
    "#indx_val.shape"
   ]
  },
  {
   "cell_type": "code",
   "execution_count": null,
   "id": "09c1895d-429d-4ae5-9555-1452dd85e99b",
   "metadata": {},
   "outputs": [],
   "source": [
    "# by event_id and date\n",
    "#indx_val = np.arange(cutoff, envVars.shape[0])\n",
    "#indx_val"
   ]
  },
  {
   "cell_type": "code",
   "execution_count": null,
   "id": "dff0c581-ac14-4e8b-a050-908815e4c61c",
   "metadata": {},
   "outputs": [],
   "source": [
    "#by cluster\n",
    "cluster = 1\n",
    "indx_val, =  np.where(event_df[cluster_var]==cluster)"
   ]
  },
  {
   "cell_type": "code",
   "execution_count": null,
   "id": "12c3941c-92f2-40e7-add1-a5e148a6f3c3",
   "metadata": {},
   "outputs": [],
   "source": [
    "# by event_id: choose until you breach 20%"
   ]
  },
  {
   "cell_type": "code",
   "execution_count": null,
   "id": "b779bdfa-1b8a-4add-babd-c47c668dd5e9",
   "metadata": {},
   "outputs": [],
   "source": [
    "indx_train = np.array(list(set(np.arange(0, cube.shape[0])).difference(indx_val)))"
   ]
  },
  {
   "cell_type": "code",
   "execution_count": null,
   "id": "e0301e6e-767d-4a97-b15b-ed4cb55d5abc",
   "metadata": {},
   "outputs": [],
   "source": [
    "cube.shape"
   ]
  },
  {
   "cell_type": "code",
   "execution_count": null,
   "id": "0601bd42-9639-42ed-a22f-a496098ba907",
   "metadata": {},
   "outputs": [],
   "source": [
    "X_train = cube[indx_train,:]\n",
    "X_val = cube[indx_val,:]\n",
    "y_train = labels[indx_train]\n",
    "y_val = labels[indx_val]\n",
    "Env_train = envVars[indx_train,3:5]\n",
    "Env_val = envVars[indx_val,3:5]\n",
    "y_val.shape"
   ]
  },
  {
   "cell_type": "code",
   "execution_count": null,
   "id": "de33a782-7bbf-43d3-b27c-735f3d8a116e",
   "metadata": {},
   "outputs": [],
   "source": [
    "event_df.shape"
   ]
  },
  {
   "cell_type": "code",
   "execution_count": null,
   "id": "b17b80c4-b940-4456-8d40-8c7f4e2015cc",
   "metadata": {},
   "outputs": [],
   "source": [
    "event_df_train = event_df.iloc[indx_train]\n",
    "event_df_val = event_df.iloc[indx_val]"
   ]
  },
  {
   "cell_type": "code",
   "execution_count": null,
   "id": "4d6606d8-9310-4202-a9fe-ed575bfd2871",
   "metadata": {},
   "outputs": [],
   "source": [
    "envVars[0:10,]"
   ]
  },
  {
   "cell_type": "code",
   "execution_count": null,
   "id": "9fac46f3-878b-4160-8a83-7d8ee4f69c7a",
   "metadata": {},
   "outputs": [],
   "source": [
    "#met_varss = [\"u10\", \"v10\", \"fg10\", \"blh\", \"cape\", \"cin\", \"z\", \"slhf\", \"sshf\", \"w\", \"u\", \"v\", \"cvh\", \"cvl\", \"tvh\", \"tvl\", \"r650\", \"r750\", \"r850\"]\n",
    "met_varss = [\"u10\", \"v10\", \"fg10\", \"blh\", \"cape\", \"cin\", \"z\", \"slhf\", \"sshf\", \"w\", \"u\", \"v\", \"cvh\", \"cvl\", \"tvh\", \"tvl\", \"r650\", \"r750\", \"r850\",\"uv10\", \"uv250\", \"alt\", \"typeH\", \"typeL\"]\n",
    "len(met_varss)"
   ]
  },
  {
   "cell_type": "code",
   "execution_count": null,
   "id": "13bcb328-30e9-4737-ab46-44e28973999d",
   "metadata": {},
   "outputs": [],
   "source": [
    "img_varss = [\"ch1\",\"ch2\",\"ch3\",\"ch4\",\"ch5\",\"ch6\"]\n",
    "varss = img_varss+met_varss"
   ]
  },
  {
   "cell_type": "code",
   "execution_count": null,
   "id": "273f97b6-9d40-4af0-a987-b175812eb0a6",
   "metadata": {},
   "outputs": [],
   "source": [
    "posts =np.arange(0,cube.shape[1]+1-10, 11)\n",
    "posts = np.array(posts.tolist()+[posts[posts.shape[0]-1]+4,posts[posts.shape[0]-1]+10])\n",
    "posts"
   ]
  },
  {
   "cell_type": "markdown",
   "id": "4402753d-11b1-4afe-8e4a-0dfcaf2af3a7",
   "metadata": {},
   "source": [
    "# ICP"
   ]
  },
  {
   "cell_type": "code",
   "execution_count": null,
   "id": "ccb61113-5b41-4c31-8a79-7e6b0598d13f",
   "metadata": {},
   "outputs": [],
   "source": [
    "print(varss)\n",
    "print(len(varss))\n",
    "indxIncl = [10,21]\n",
    "indxIncl = [0,4,5,13,16,17,18]\n",
    "#indxIncl = [29]\n",
    "indxIncl = np.arange(len(varss)).tolist()\n",
    "indxIncl \n",
    "np.array(varss)[indxIncl].shape"
   ]
  },
  {
   "cell_type": "code",
   "execution_count": null,
   "id": "1cce699c-dffb-43b8-9d49-dd82487727e2",
   "metadata": {},
   "outputs": [],
   "source": [
    "i = 0\n",
    "envv = np.array([(event_df[\"cluster_regional\"]==i)*1 for i in np.arange(5)]).T\n",
    "envv.shape"
   ]
  },
  {
   "cell_type": "code",
   "execution_count": null,
   "id": "d810f64f",
   "metadata": {},
   "outputs": [],
   "source": [
    "envVars.shape"
   ]
  },
  {
   "cell_type": "code",
   "execution_count": null,
   "id": "1380bf01",
   "metadata": {},
   "outputs": [],
   "source": [
    "30*11"
   ]
  },
  {
   "cell_type": "code",
   "execution_count": null,
   "id": "b88fac11",
   "metadata": {},
   "outputs": [],
   "source": [
    "event_df.head()"
   ]
  },
  {
   "cell_type": "markdown",
   "id": "754092c9",
   "metadata": {},
   "source": [
    "## Conditional independence test Y indep E | X based on delong test for diff of AUC and Random Forests"
   ]
  },
  {
   "cell_type": "markdown",
   "id": "d34eb9bb",
   "metadata": {},
   "source": [
    "### Obtain out-of-sample probability of ocurrence using random forest with an without environment E variables"
   ]
  },
  {
   "cell_type": "code",
   "execution_count": null,
   "id": "548dfc4d-fa82-4905-8f99-6c7a02545802",
   "metadata": {},
   "outputs": [],
   "source": [
    "\n",
    "start_time = time.time()\n",
    "y_pred_noE = getTestProbsWrapper(cube, labels, event_df, cluster_var, indxIncl, posts, numTrees=100)\n",
    "y_pred_E = getTestProbsWrapper(cube, labels, event_df, cluster_var, indxIncl, posts, numTrees=100, envVar=envVars[:,0:3])\n",
    "elapsed_time = time.time() - start_time\n",
    "print(\"elapsed time: \", elapsed_time) # 30 secs for 5 folds, 10 combs each\n",
    "\n"
   ]
  },
  {
   "cell_type": "code",
   "execution_count": null,
   "id": "369b09de-4230-4301-b69b-7f3a4fab664b",
   "metadata": {},
   "outputs": [],
   "source": [
    "4000*30/60/60 # hours"
   ]
  },
  {
   "cell_type": "code",
   "execution_count": null,
   "id": "fb3e6753-1740-409a-b404-4e44c3567c3b",
   "metadata": {},
   "outputs": [],
   "source": [
    "type(indxIncl)"
   ]
  },
  {
   "cell_type": "code",
   "execution_count": null,
   "id": "c3e0a16e-5aa0-4ffc-9a5d-ce056593c360",
   "metadata": {},
   "outputs": [],
   "source": [
    "roc_auc_score(labels, y_pred_noE)"
   ]
  },
  {
   "cell_type": "code",
   "execution_count": null,
   "id": "603e34f1-7714-4387-855f-0639c58f13b1",
   "metadata": {},
   "outputs": [],
   "source": [
    "roc_auc_score(labels, y_pred_E)"
   ]
  },
  {
   "cell_type": "code",
   "execution_count": null,
   "id": "2b686575-22c6-4886-9699-2a101bac30ad",
   "metadata": {},
   "outputs": [],
   "source": [
    "elapsed_time/60 #3.4 mins for 500 trees, 41 secs for 100 trees"
   ]
  },
  {
   "cell_type": "code",
   "execution_count": null,
   "id": "861d70b6-c7c6-412a-88d9-f4b301301c31",
   "metadata": {},
   "outputs": [],
   "source": [
    "np.sum(np.arange(len(varss))+1)*elapsed_time/60/60 #5 hours for greedy algo"
   ]
  },
  {
   "cell_type": "code",
   "execution_count": null,
   "id": "a52bae27-6061-4c90-b05c-7464d13e6645",
   "metadata": {},
   "outputs": [],
   "source": [
    "len(varss)"
   ]
  },
  {
   "cell_type": "code",
   "execution_count": null,
   "id": "c2711f5b-4955-4214-98e4-ae249e6b6ddb",
   "metadata": {},
   "outputs": [],
   "source": [
    "varss"
   ]
  },
  {
   "cell_type": "code",
   "execution_count": null,
   "id": "789cce98-d20e-423d-b41b-d2b3c3b92de1",
   "metadata": {},
   "outputs": [],
   "source": [
    "\n",
    "def comb(n,p):\n",
    "    return math.factorial(n)/(math.factorial(n-p)*math.factorial(p))"
   ]
  },
  {
   "cell_type": "code",
   "execution_count": null,
   "id": "86d93fd3-57e5-4940-91f7-1715a08d8c72",
   "metadata": {},
   "outputs": [],
   "source": [
    "comb(30,10)"
   ]
  },
  {
   "cell_type": "code",
   "execution_count": null,
   "id": "4ce49a83-241c-4acc-9d77-c4ee81e3e150",
   "metadata": {},
   "outputs": [],
   "source": [
    "np.sum([comb(len(varss)-2,i) for i in range(len(varss)-2)])\n",
    "#1,073,741,823"
   ]
  },
  {
   "cell_type": "markdown",
   "id": "e4cf9fae",
   "metadata": {},
   "source": [
    "### given proabilities of pyroCb with and without using environment E variables obtain hypothesis test"
   ]
  },
  {
   "cell_type": "code",
   "execution_count": null,
   "id": "c9e6942f-d943-482e-b85e-e9e2a634e34f",
   "metadata": {},
   "outputs": [],
   "source": [
    "equalAUC_hypTest(y_pred_noE, y_pred_E, labels)"
   ]
  },
  {
   "cell_type": "code",
   "execution_count": null,
   "id": "58a607ab",
   "metadata": {},
   "outputs": [],
   "source": [
    "type(labels)"
   ]
  },
  {
   "cell_type": "code",
   "execution_count": null,
   "id": "0d8cb7d6-3aa2-4507-90e4-6dd0af891923",
   "metadata": {},
   "outputs": [],
   "source": [
    "#getHypWrapper(cube, labels, event_df, cluster_var, indxIncl, posts, envVar=envv)"
   ]
  },
  {
   "cell_type": "code",
   "execution_count": null,
   "id": "88df473d-1ccc-4c80-a3cf-991c7f53ec6d",
   "metadata": {},
   "outputs": [],
   "source": [
    "range(len(indxIncl))"
   ]
  },
  {
   "cell_type": "code",
   "execution_count": null,
   "id": "a590edeb-234d-4974-884a-aa4b9d6639fa",
   "metadata": {},
   "outputs": [],
   "source": [
    "#indxIncl = [10,21]\n",
    "#indxIncl = [29]\n",
    "indxIncl = np.arange(len(varss)).tolist()\n",
    "indxIncl.pop(21)\n",
    "indxIncl.pop(20)\n",
    "np.array(varss)[indxIncl].shape\n"
   ]
  },
  {
   "cell_type": "code",
   "execution_count": null,
   "id": "3c8162c0-c6ed-4b7f-97ce-2efa95e9d4f0",
   "metadata": {},
   "outputs": [],
   "source": [
    "envVars[:,0:3].shape"
   ]
  },
  {
   "cell_type": "code",
   "execution_count": null,
   "id": "5921f043-35d9-4e4f-8d69-7593e3f192b3",
   "metadata": {},
   "outputs": [],
   "source": [
    "envVars[0:5,:]"
   ]
  },
  {
   "cell_type": "code",
   "execution_count": null,
   "id": "48c7a212-ba3e-4aa0-9438-5211d895c9dc",
   "metadata": {},
   "outputs": [],
   "source": [
    "def allZeros(x):\n",
    "    return np.all(x==0)\n",
    "\n",
    "indxZeros, = np.where(np.apply_along_axis(allZeros, 0, cube))\n",
    "indxZeros"
   ]
  },
  {
   "cell_type": "code",
   "execution_count": null,
   "id": "25ee5048-3522-4c81-bd9d-9b31cd9022b3",
   "metadata": {},
   "outputs": [],
   "source": [
    "cube.shape"
   ]
  },
  {
   "cell_type": "markdown",
   "id": "b5ac6953",
   "metadata": {},
   "source": [
    "### obtain conditional idependence test statistic and p-values where S is all variables in cube"
   ]
  },
  {
   "cell_type": "code",
   "execution_count": null,
   "id": "c6cd4dd1-6e80-4b66-b7d2-e72df386f50a",
   "metadata": {},
   "outputs": [],
   "source": [
    "start_time = time.time()\n",
    "print(getHypWrapper(cube, labels, envVars[:,0:3], event_df, cluster_var, [], posts, numTrees=100))\n",
    "elapsed_time = time.time() - start_time\n",
    "print(\"elapsed time: \", elapsed_time) # 30 secs for 5 folds, 10 combs each\n",
    "\n"
   ]
  },
  {
   "cell_type": "markdown",
   "id": "685b97ad",
   "metadata": {},
   "source": [
    "## Greedy ICP algorithm"
   ]
  },
  {
   "cell_type": "code",
   "execution_count": null,
   "id": "f3dbf040",
   "metadata": {},
   "outputs": [],
   "source": [
    "varss  = img_varss+met_varss\n",
    "indxIncl = np.arange(len(varss)).tolist()\n",
    "cluster_var = \"cluster_random\""
   ]
  },
  {
   "cell_type": "code",
   "execution_count": null,
   "id": "6af6545c",
   "metadata": {},
   "outputs": [],
   "source": [
    "posts =np.arange(0,cube.shape[1]+1-10, 11)\n",
    "posts = np.array(posts.tolist()+[posts[posts.shape[0]-1]+4,posts[posts.shape[0]-1]+10])\n",
    "posts"
   ]
  },
  {
   "cell_type": "code",
   "execution_count": null,
   "id": "4596479b-ff55-4673-a358-72cb29176627",
   "metadata": {},
   "outputs": [],
   "source": [
    "start_time = time.time()\n",
    "#res = greedyICP(cube, labels, envVars[:,0:3], event_df, cluster_var, indxIncl, posts, varss, numTrees=100, pvalTest=\"pval_1tail\")\n",
    "elapsed_time = time.time() - start_time\n",
    "print(\"elapsed time: \", elapsed_time) # 30 secs for 5 folds, 10 combs each\n",
    "\n",
    "\n"
   ]
  },
  {
   "cell_type": "code",
   "execution_count": null,
   "id": "2ef9e31e",
   "metadata": {},
   "outputs": [],
   "source": [
    "type(posts)"
   ]
  },
  {
   "cell_type": "code",
   "execution_count": null,
   "id": "75503dde-9eb3-4f71-a292-106788da6cd4",
   "metadata": {},
   "outputs": [],
   "source": [
    "results_root = \"/home/emiliano/Documents/FDL/clean_code/results/\"\n",
    "version = \"v_1Tail_0\"\n",
    "file = \"greedyICP\"\n",
    "fileRes = results_root+file+\"_\"+version+\"_pvals.pkl\" \n",
    "\n"
   ]
  },
  {
   "cell_type": "code",
   "execution_count": null,
   "id": "33922501-6b31-42a7-800f-ca608ead265f",
   "metadata": {},
   "outputs": [],
   "source": [
    "#with open(fileRes, 'wb') as output:  # Overwrites any existing file.\n",
    "#        pickle.dump(res, output, pickle.HIGHEST_PROTOCOL)\n"
   ]
  },
  {
   "cell_type": "code",
   "execution_count": null,
   "id": "1bd1a498-cf74-44a9-bc38-5031be10f8cf",
   "metadata": {},
   "outputs": [],
   "source": [
    "res = pickle5.load( open( fileRes, \"rb\" ) )"
   ]
  },
  {
   "cell_type": "code",
   "execution_count": null,
   "id": "86d1ab31-dcdd-4b59-8fb4-e5aac15922fd",
   "metadata": {},
   "outputs": [],
   "source": [
    "res[\"auc_E\"][len(res[\"auc_E\"])-1] = np.nan\n",
    "res[\"auc_noE\"][len(res[\"auc_noE\"])-1] = np.nan"
   ]
  },
  {
   "cell_type": "code",
   "execution_count": null,
   "id": "30cc4f5b",
   "metadata": {},
   "outputs": [],
   "source": [
    "res"
   ]
  },
  {
   "cell_type": "code",
   "execution_count": null,
   "id": "085a7116-cb9c-45db-b04d-1018ef58112c",
   "metadata": {},
   "outputs": [],
   "source": [
    "res.keys()"
   ]
  },
  {
   "cell_type": "code",
   "execution_count": null,
   "id": "6d2d0ac0-51bc-4b3a-83c3-e1a1c513fa68",
   "metadata": {
    "scrolled": true
   },
   "outputs": [],
   "source": [
    "plt.scatter(np.array(varss)[res[\"indxVar\"]], res[\"pval\"])"
   ]
  },
  {
   "cell_type": "code",
   "execution_count": null,
   "id": "3f93eb60-4d42-481a-a52f-c6e51d3dc3ce",
   "metadata": {},
   "outputs": [],
   "source": [
    "plt.scatter(np.array(varss)[res[\"indxVar\"]], np.log(res[\"pval\"]))"
   ]
  },
  {
   "cell_type": "markdown",
   "id": "8b593e85",
   "metadata": {},
   "source": [
    "## Get AUC for model with novars and with only E vars"
   ]
  },
  {
   "cell_type": "markdown",
   "id": "41a57ce3",
   "metadata": {},
   "source": [
    "### Get figure 2 from paper"
   ]
  },
  {
   "cell_type": "code",
   "execution_count": null,
   "id": "2292f609-0073-4308-9e82-5e0f64ca338e",
   "metadata": {},
   "outputs": [],
   "source": [
    "df = pd.DataFrame({\"var\":np.array(varss)[res[\"indxVar\"]], \"pval\":res[\"pval\"], \"auc_noE\":res[\"auc_noE\"], \"auc_E\":res[\"auc_E\"]})\n",
    "df.head()"
   ]
  },
  {
   "cell_type": "code",
   "execution_count": null,
   "id": "f31f2189-b4bf-4e4e-941c-a271ba5ab75d",
   "metadata": {},
   "outputs": [],
   "source": [
    "ML_ready_root"
   ]
  },
  {
   "cell_type": "markdown",
   "id": "35eb6df9",
   "metadata": {},
   "source": [
    "### Figure 2a"
   ]
  },
  {
   "cell_type": "code",
   "execution_count": null,
   "id": "69104ee1-14ec-4415-bae6-e217b693ab0c",
   "metadata": {},
   "outputs": [],
   "source": [
    "df2 = df.copy()\n",
    "df2[\"dummy\"] = 1\n",
    "g = sns.stripplot(data=df2, x=\"var\", y=\"pval\", hue=\"dummy\",size=10)\n",
    "plt.xticks(rotation=90)\n",
    "plt.xticks(size=12)\n",
    "plt.xlabel(\"excluded variable\",size=20)\n",
    "plt.ylabel(\"p-value\",size=20)\n",
    "#g.set(xlabel='excluded variable', ylabel='p-value')\n",
    "#plt.legend(bbox_to_anchor=(1.25, 1),borderaxespad=0)\n",
    "plt.legend([],[], frameon=False)\n",
    "#plt.savefig(ML_ready_root+\"results/greedyICP_pval.png\", format='png', dpi=300)"
   ]
  },
  {
   "cell_type": "code",
   "execution_count": null,
   "id": "47eb6041-9409-4892-80a2-240033ffc439",
   "metadata": {},
   "outputs": [],
   "source": [
    "df  =pd.melt(df, id_vars=\"var\")\n",
    "df.head()"
   ]
  },
  {
   "cell_type": "markdown",
   "id": "45319a7b",
   "metadata": {},
   "source": [
    "### Figure 2b"
   ]
  },
  {
   "cell_type": "code",
   "execution_count": null,
   "id": "963fe0f7-aef9-4ce7-b63e-88290f0a03c4",
   "metadata": {
    "scrolled": true
   },
   "outputs": [],
   "source": [
    "g = sns.stripplot(data=df.loc[df.variable!=\"pval\"], x=\"var\", y=\"value\", hue=\"variable\", size=8)\n",
    "plt.xticks(rotation=90)\n",
    "plt.xticks(size=12)\n",
    "plt.xlabel(\"excluded variable\",size=20)\n",
    "plt.ylabel(\"auc\",size=20)\n",
    "plt.setp(g.get_legend().get_texts(), fontsize='18') # for legend text\n",
    "plt.setp(g.get_legend().get_title(), fontsize='20') # for legend title\n",
    "#g.set(xlabel='excluded variable', ylabel='p-value')\n",
    "#plt.legend(bbox_to_anchor=(1.25, 1),borderaxespad=0)\n",
    "#plt.savefig(ML_ready_root+\"results/greedyICP_auc.png\", format='png', dpi=300)"
   ]
  },
  {
   "cell_type": "code",
   "execution_count": null,
   "id": "97d4ad4a-1a6b-4687-a8b4-ced11cffd1e7",
   "metadata": {},
   "outputs": [],
   "source": [
    "len(res[\"indxVar\"])"
   ]
  },
  {
   "cell_type": "code",
   "execution_count": null,
   "id": "ed6b711f-050d-4169-af8b-34e6486381eb",
   "metadata": {},
   "outputs": [],
   "source": [
    "np.sum([comb(12,i) for i in range(6,12)])\n",
    "# 793"
   ]
  },
  {
   "cell_type": "code",
   "execution_count": null,
   "id": "912627e6-1b7b-4fd7-bd82-8d86956ffe58",
   "metadata": {},
   "outputs": [],
   "source": [
    "elapsed_time*2500/60/60 #5 hours"
   ]
  },
  {
   "cell_type": "code",
   "execution_count": null,
   "id": "889d8fab-2613-4045-9504-fa9b8c7c9c74",
   "metadata": {},
   "outputs": [],
   "source": [
    "np.array(varss)[res[\"indxVar\"]]"
   ]
  },
  {
   "cell_type": "code",
   "execution_count": null,
   "id": "b3f083fa-de39-4581-9370-0529cc5eebb3",
   "metadata": {},
   "outputs": [],
   "source": [
    "np.array(varss)[res[\"indxVar\"]]"
   ]
  },
  {
   "cell_type": "code",
   "execution_count": null,
   "id": "dd7669d1-9772-4c58-89a9-85da59394a8f",
   "metadata": {},
   "outputs": [],
   "source": [
    "varss"
   ]
  },
  {
   "cell_type": "code",
   "execution_count": null,
   "id": "d9d6df69-37f8-4d36-9178-564569e2667a",
   "metadata": {},
   "outputs": [],
   "source": [
    "np.array(varss)[res[\"indxVar\"][::-1][0:11]]"
   ]
  },
  {
   "cell_type": "code",
   "execution_count": null,
   "id": "36b828c3-2cf4-4dad-9b7c-f508c3622ddb",
   "metadata": {},
   "outputs": [],
   "source": [
    "indxIncl = res[\"indxVar\"][::-1][0:11]\n",
    "print(len(indxIncl))\n",
    "np.array(varss)[indxIncl]"
   ]
  },
  {
   "cell_type": "code",
   "execution_count": null,
   "id": "2459c672-c515-4fed-ab3c-63ef776a7b35",
   "metadata": {},
   "outputs": [],
   "source": [
    "[i for i in range(8,12)]"
   ]
  },
  {
   "cell_type": "code",
   "execution_count": null,
   "id": "718987e9",
   "metadata": {},
   "outputs": [],
   "source": [
    "np.array(varss)[res[\"indxVar\"]]"
   ]
  },
  {
   "cell_type": "markdown",
   "id": "78cf9631",
   "metadata": {},
   "source": [
    "## Run exhaustive ICP on all combinations of size 8 or larger from 12 variables selected using greedy ICP"
   ]
  },
  {
   "cell_type": "code",
   "execution_count": null,
   "id": "89701d6c-e29b-407d-90d2-c56652a0d093",
   "metadata": {},
   "outputs": [],
   "source": [
    "#varsSelec = ['v10','v','ch1','alt','sshf','u10','ch6','z','r650','cape','ch5','r850']#\n",
    "varsSelec = ['alt', 'cape', 'ch6', 'v', 'r850', 'sshf', 'u10', 'ch1', 'z','uv10', 'blh']"
   ]
  },
  {
   "cell_type": "code",
   "execution_count": null,
   "id": "a7416b24-a6a3-4743-9b77-2b98281ef106",
   "metadata": {},
   "outputs": [],
   "source": [
    "i = 0\n",
    "indxIncl = np.sort([findIndxAux(varss, varsSelec, i) for i in range(len(varsSelec))]).tolist()"
   ]
  },
  {
   "cell_type": "code",
   "execution_count": null,
   "id": "6e28bbab-534d-4c0d-82af-9d2c9e078e93",
   "metadata": {},
   "outputs": [],
   "source": [
    "i = 8\n",
    "combos = dp.flatten([list(combinations(np.array(varss)[indxIncl], i)) for i in range(8,12)])\n",
    "#combos = dp.flatten([list(combinations(np.array(varss)[indxIncl], i)) for i in range(4,12)])"
   ]
  },
  {
   "cell_type": "code",
   "execution_count": null,
   "id": "5a37b5e9-2163-458a-8168-d15c2a57cbd0",
   "metadata": {},
   "outputs": [],
   "source": [
    "len(combos)"
   ]
  },
  {
   "cell_type": "code",
   "execution_count": null,
   "id": "2e0fcae0-f53e-4a4b-85d8-65873e77cc9e",
   "metadata": {},
   "outputs": [],
   "source": [
    "combos = [list(c) for c in combos]"
   ]
  },
  {
   "cell_type": "code",
   "execution_count": null,
   "id": "ae5a034b-fa95-48a2-825c-da70167018da",
   "metadata": {},
   "outputs": [],
   "source": [
    "start_time = time.time()\n",
    "#res_ex = exhaustiveICP(cube, labels, envVars[:,0:3], event_df, cluster_var, varss, combos, posts, numTrees=100)\n",
    "elapsed_time = time.time() - start_time\n",
    "print(\"elapsed time: \", elapsed_time) # 30 secs for 5 folds, 10 combs each\n"
   ]
  },
  {
   "cell_type": "code",
   "execution_count": null,
   "id": "720aad68-4334-4ada-aaf9-24d891687528",
   "metadata": {},
   "outputs": [],
   "source": [
    "results_root = \"/home/emiliano/Documents/FDL/clean_code/results/\"\n",
    "version = \"v_1Tail_0\"\n",
    "file = \"exhaustiveICP_8_11\"\n",
    "fileRes = results_root+file+\"_\"+version+\"_pvals.pkl\" "
   ]
  },
  {
   "cell_type": "code",
   "execution_count": null,
   "id": "53b2356b-49a7-42ad-ae9b-bc8aa5c1772d",
   "metadata": {},
   "outputs": [],
   "source": [
    "#results_root = \"/home/jupyter/ML_ready/results/\"\n",
    "#version = \"v_1Tail_0\"\n",
    "#file = \"exhaustiveICP_8_11\"\n",
    "#fileRes = results_root+file+\"_\"+version+\"_pvals.pkl\" "
   ]
  },
  {
   "cell_type": "code",
   "execution_count": null,
   "id": "93686b28-5566-4072-8e3f-1fb1225dd05b",
   "metadata": {},
   "outputs": [],
   "source": [
    "#with open(fileRes, 'wb') as output:  # Overwrites any existing file.\n",
    "#        pickle.dump(res_ex, output, pickle.HIGHEST_PROTOCOL)\n"
   ]
  },
  {
   "cell_type": "code",
   "execution_count": null,
   "id": "44761ec2-0d6e-4e43-82d8-c456e6facdb6",
   "metadata": {},
   "outputs": [],
   "source": [
    "res_ex = pickle5.load( open( fileRes, \"rb\" ) )"
   ]
  },
  {
   "cell_type": "code",
   "execution_count": null,
   "id": "37c03ae5",
   "metadata": {},
   "outputs": [],
   "source": [
    "len(res_ex)"
   ]
  },
  {
   "cell_type": "code",
   "execution_count": null,
   "id": "67d31406-8e52-4333-b587-299e1e3cea07",
   "metadata": {},
   "outputs": [],
   "source": [
    "sig = 0.05\n",
    "indxCombos, = np.where([r[\"pval_1tail\"]>sig for r in res_ex])"
   ]
  },
  {
   "cell_type": "code",
   "execution_count": null,
   "id": "6195fd40-de30-45ee-8c45-2f059504f42f",
   "metadata": {},
   "outputs": [],
   "source": [
    "combosPass = [combos[i] for i in indxCombos]\n",
    "len(combosPass)"
   ]
  },
  {
   "cell_type": "code",
   "execution_count": null,
   "id": "2079cc2d-1b6e-4e87-870c-f0f18fe9e8c9",
   "metadata": {},
   "outputs": [],
   "source": [
    "combosPass"
   ]
  },
  {
   "cell_type": "code",
   "execution_count": null,
   "id": "30f2e8a2-97d5-48e3-b3ac-4da68e9c5a05",
   "metadata": {},
   "outputs": [],
   "source": [
    "len(combosPass)"
   ]
  },
  {
   "cell_type": "code",
   "execution_count": null,
   "id": "569591e6-9ff2-4343-b70d-196194dc773f",
   "metadata": {},
   "outputs": [],
   "source": [
    "len(combos)"
   ]
  },
  {
   "cell_type": "code",
   "execution_count": null,
   "id": "fa77c799-222c-416a-9e44-15e58ff2ae9c",
   "metadata": {},
   "outputs": [],
   "source": [
    "np.array(varss)[indxIncl]"
   ]
  },
  {
   "cell_type": "code",
   "execution_count": null,
   "id": "53b435cb-7fbb-4513-91a3-73c46f36024c",
   "metadata": {},
   "outputs": [],
   "source": [
    "ids, cnts = np.unique(dp.flatten(combosPass), return_counts=True)\n",
    "df_freq = pd.DataFrame({\"var\":ids, \"freq\":cnts})\n",
    "df_freq"
   ]
  },
  {
   "cell_type": "code",
   "execution_count": null,
   "id": "793089a7-5636-4c25-8bb4-d4437de3b6e8",
   "metadata": {},
   "outputs": [],
   "source": [
    "df_freq.freq"
   ]
  },
  {
   "cell_type": "code",
   "execution_count": null,
   "id": "f4d9bad5-fbef-4649-82da-6030d27a2547",
   "metadata": {},
   "outputs": [],
   "source": [
    "df_freq2 = df_freq.copy()\n",
    "df_freq2[\"dummy\"] = 1\n",
    "\n",
    "\n",
    "sns.barplot(data=df_freq2, x=\"var\", y=\"freq\", hue=\"dummy\")\n",
    "plt.xticks(rotation=90)\n",
    "plt.xticks(size=12)\n",
    "plt.xlabel(\"variable\",size=20)\n",
    "plt.ylabel(\"frequency\",size=20)\n",
    "plt.legend([],[], frameon=False)\n",
    "\n",
    "\n",
    "#plt.savefig(ML_ready_root+\"results/accepted_sets_freq.png\", format='png', dpi=300)"
   ]
  },
  {
   "cell_type": "code",
   "execution_count": null,
   "id": "d03b4ed7-5af9-4d9b-b85e-16aea6bb8ef2",
   "metadata": {},
   "outputs": [],
   "source": [
    "cmb = combosPass[0]\n",
    "for i in range(1,len(combosPass)):\n",
    "    cmb = set(cmb).intersection(combosPass[i])\n",
    "list(cmb)"
   ]
  },
  {
   "cell_type": "code",
   "execution_count": null,
   "id": "12841625-803f-4b9a-b647-cda95a82846d",
   "metadata": {},
   "outputs": [],
   "source": [
    "results_root = \"/home/emiliano/Documents/FDL/clean_code/results/\"\n",
    "version = \"v_1Tail_0\"\n",
    "file = \"exhaustiveICP_8_11\"\n",
    "fileRes = results_root+file+\"_\"+version+\"_accepted_sets.json\" \n",
    "fileRes"
   ]
  },
  {
   "cell_type": "code",
   "execution_count": null,
   "id": "d567edd9-afa7-413e-95d9-f59d6f2b64ea",
   "metadata": {},
   "outputs": [],
   "source": [
    "import json\n",
    "#with open(fileRes, 'w') as f:\n",
    "#    json.dump(combosPass, f)"
   ]
  },
  {
   "cell_type": "markdown",
   "id": "c8bb24c3",
   "metadata": {},
   "source": [
    "## Appendix A.2 analysis: cluster variables and apply exhaustive ICP on clusters"
   ]
  },
  {
   "cell_type": "code",
   "execution_count": null,
   "id": "aeef12fa-d1df-45e4-9b95-73af659faedb",
   "metadata": {},
   "outputs": [],
   "source": [
    "maxSmpl = 100\n",
    "smpl = np.random.choice(cube.shape[0], size=maxSmpl, replace=False)[:,None]"
   ]
  },
  {
   "cell_type": "code",
   "execution_count": null,
   "id": "b9cdfa9a-3381-4828-bc31-8ceb76c17a9f",
   "metadata": {},
   "outputs": [],
   "source": [
    "np.array(varss)[indxIncl]"
   ]
  },
  {
   "cell_type": "code",
   "execution_count": null,
   "id": "09604f60-73a9-4102-b32e-57ddaa5a8ce6",
   "metadata": {},
   "outputs": [],
   "source": [
    "posts"
   ]
  },
  {
   "cell_type": "code",
   "execution_count": null,
   "id": "be0900c5-3c6a-4d1e-9f9b-418eb8b9d444",
   "metadata": {},
   "outputs": [],
   "source": [
    "indxs = [np.arange(posts[indxIncl[i]],posts[indxIncl[i]+1]) for i in range(len(indxIncl))]\n",
    "indxs"
   ]
  },
  {
   "cell_type": "code",
   "execution_count": null,
   "id": "f274c7a1",
   "metadata": {},
   "outputs": [],
   "source": [
    "type(hsicRBF_jax(cube[smpl,indxs[1]],cube[smpl,indxs[0]][:,None]))"
   ]
  },
  {
   "cell_type": "code",
   "execution_count": null,
   "id": "297a5968",
   "metadata": {},
   "outputs": [],
   "source": [
    "type(sqeuclidean_distance(cube[0,:], cube[1,:]))"
   ]
  },
  {
   "cell_type": "code",
   "execution_count": null,
   "id": "cb89516b",
   "metadata": {},
   "outputs": [],
   "source": [
    "type(cube[0,:])"
   ]
  },
  {
   "cell_type": "code",
   "execution_count": null,
   "id": "126f8f70-01d8-48ae-b802-f1fa9adeb1fd",
   "metadata": {},
   "outputs": [],
   "source": [
    "hsicsVars = np.array([[ float(hsicRBF_jax(cube[smpl,indxs[k]],cube[smpl,indxs[j]][:,None]))  for k in range(len(indxs))] for j in range(len(indxs))])"
   ]
  },
  {
   "cell_type": "code",
   "execution_count": null,
   "id": "19bab6ec-add0-425e-afab-2634439c9a10",
   "metadata": {},
   "outputs": [],
   "source": [
    "for i in range(hsicsVars.shape[0]):\n",
    "    hsicsVars[i,i] = np.nan"
   ]
  },
  {
   "cell_type": "markdown",
   "id": "33bf6b1f",
   "metadata": {},
   "source": [
    "### Get figure 4 from paper"
   ]
  },
  {
   "cell_type": "code",
   "execution_count": null,
   "id": "60ebd7d2-22b6-476e-92da-4aa79dc89572",
   "metadata": {},
   "outputs": [],
   "source": [
    "fig, ax = plt.subplots()\n",
    "im= ax.imshow(hsicsVars)\n",
    "fig.colorbar(im)\n",
    "plt.xticks(rotation=90)\n",
    "plt.xticks(size=12)\n",
    "plt.yticks(size=12)\n",
    "ax.xaxis.set(ticks=np.arange(0, len(indxIncl)), ticklabels=np.array(varss)[indxIncl])\n",
    "ax.yaxis.set(ticks=np.arange(0, len(indxIncl)), ticklabels=np.array(varss)[indxIncl])\n",
    "#plt.savefig(ML_ready_root+\"results/hsic_12.png\", format='png', dpi=300)"
   ]
  },
  {
   "cell_type": "code",
   "execution_count": null,
   "id": "639ddfc4-907d-4ddd-8e84-3ea78d48fd2d",
   "metadata": {},
   "outputs": [],
   "source": [
    "sns.distplot(hsicsVars)"
   ]
  },
  {
   "cell_type": "markdown",
   "id": "13c0dc57",
   "metadata": {},
   "source": [
    "### Get clusters"
   ]
  },
  {
   "cell_type": "code",
   "execution_count": null,
   "id": "120baeeb-9a89-43bb-8c1c-889e229977fb",
   "metadata": {},
   "outputs": [],
   "source": [
    "def depVars(x):\n",
    "    indx, = np.where(x>0.25)\n",
    "    return indx\n",
    "\n",
    "depGrps = [[i]+depVars(hsicsVars[i,:]).tolist() for i in range(hsicsVars.shape[0])]"
   ]
  },
  {
   "cell_type": "code",
   "execution_count": null,
   "id": "a3db2a51-4d56-4f35-869e-23f49022b85b",
   "metadata": {},
   "outputs": [],
   "source": [
    "depGrps"
   ]
  },
  {
   "cell_type": "code",
   "execution_count": null,
   "id": "f753afb5-dba8-4618-b715-baec8f3ffb9f",
   "metadata": {},
   "outputs": [],
   "source": [
    "set(depGrps[2]).issubset(depGrps[7])"
   ]
  },
  {
   "cell_type": "code",
   "execution_count": null,
   "id": "4d4c3352-588d-4031-a046-925cf8867af9",
   "metadata": {},
   "outputs": [],
   "source": [
    "i = 0\n",
    "j = list(set(np.arange(hsicsVars.shape[0]).tolist()).difference([i]))[0]\n",
    "indxKeep, = np.where([np.all(np.logical_not([set(depGrps[i]).issubset(depGrps[j]) for j in list(set(np.arange(hsicsVars.shape[0]).tolist()).difference([i]))])) for i in range(hsicsVars.shape[0])])\n",
    "indxKeep"
   ]
  },
  {
   "cell_type": "code",
   "execution_count": null,
   "id": "8ad0dcea-999d-42e1-a0b9-0b34b765e38b",
   "metadata": {},
   "outputs": [],
   "source": [
    "[depGrps[i] for i in indxKeep]"
   ]
  },
  {
   "cell_type": "code",
   "execution_count": null,
   "id": "6253a9bd-eaef-42d5-b69b-224674f84861",
   "metadata": {},
   "outputs": [],
   "source": [
    "dp.flatten([depGrps[i] for i in indxKeep])"
   ]
  },
  {
   "cell_type": "code",
   "execution_count": null,
   "id": "8555a600-69c9-460c-8dfc-24374502ace6",
   "metadata": {},
   "outputs": [],
   "source": [
    "#depGrps = [depGrps[i] for i in indxKeep]\n",
    "len(depGrps)"
   ]
  },
  {
   "cell_type": "code",
   "execution_count": null,
   "id": "9591362e-4a89-40ae-992d-3478e195cfa6",
   "metadata": {},
   "outputs": [],
   "source": [
    "[np.array(varss)[indxIncl][d] for d in depGrps]"
   ]
  },
  {
   "cell_type": "code",
   "execution_count": null,
   "id": "48b4e863-96f4-4216-8a3c-1e27d4138263",
   "metadata": {},
   "outputs": [],
   "source": [
    "indxIncl"
   ]
  },
  {
   "cell_type": "code",
   "execution_count": null,
   "id": "a454f553-42fa-4195-95d4-8ce7620bac5b",
   "metadata": {},
   "outputs": [],
   "source": [
    "combosDep = dp.flatten([list(combinations(depGrps, i)) for i in range(1,12)])"
   ]
  },
  {
   "cell_type": "code",
   "execution_count": null,
   "id": "46ea5861-b675-46de-9fad-e96ac5553957",
   "metadata": {},
   "outputs": [],
   "source": [
    "len(combosDep)"
   ]
  },
  {
   "cell_type": "code",
   "execution_count": null,
   "id": "dab62983-0183-436a-aeb1-df808efa721c",
   "metadata": {},
   "outputs": [],
   "source": [
    "combosDep = [np.array(varss)[indxIncl][np.sort(np.unique(np.concatenate(list(c))))].tolist() for c in combosDep]"
   ]
  },
  {
   "cell_type": "code",
   "execution_count": null,
   "id": "8cb5d020-880f-4f09-8e56-6efdfaa8f3a0",
   "metadata": {},
   "outputs": [],
   "source": [
    "combosDep = np.unique(['-'.join(c) for c in combosDep]).tolist()"
   ]
  },
  {
   "cell_type": "code",
   "execution_count": null,
   "id": "608d1a3f-51fc-4958-aeb5-2cf87df258e3",
   "metadata": {},
   "outputs": [],
   "source": [
    "combosDep = [c.split(\"-\") for c in combosDep]"
   ]
  },
  {
   "cell_type": "code",
   "execution_count": null,
   "id": "455b25c3-0036-4718-a180-0e196f1cd82e",
   "metadata": {},
   "outputs": [],
   "source": [
    "len(combosDep)"
   ]
  },
  {
   "cell_type": "code",
   "execution_count": null,
   "id": "07ed559c-9675-49a8-b02f-c4a8f035f101",
   "metadata": {},
   "outputs": [],
   "source": [
    "combosDep"
   ]
  },
  {
   "cell_type": "code",
   "execution_count": null,
   "id": "535d345e-497d-42eb-9562-554fb71c7677",
   "metadata": {},
   "outputs": [],
   "source": [
    "cluster_var"
   ]
  },
  {
   "cell_type": "markdown",
   "id": "8b8e04cb",
   "metadata": {},
   "source": [
    "### exhaustive ICP based on variables in clusters"
   ]
  },
  {
   "cell_type": "code",
   "execution_count": null,
   "id": "ba25dc0a-019a-4c68-956e-a491815f2e74",
   "metadata": {},
   "outputs": [],
   "source": [
    "start_time = time.time()\n",
    "#res_ex2 = exhaustiveICP(cube, labels, envVars[:,0:3], event_df, cluster_var, varss, combosDep, posts, numTrees=100)\n",
    "elapsed_time = time.time() - start_time\n",
    "print(\"elapsed time: \", elapsed_time) # for 5 folds, 1 rep each\n",
    "\n"
   ]
  },
  {
   "cell_type": "code",
   "execution_count": null,
   "id": "c31257b2-1a15-4469-8fe8-383c0eef3f8a",
   "metadata": {},
   "outputs": [],
   "source": [
    "results_root = \"/home/emiliano/Documents/FDL/clean_code/results/\"\n",
    "version = \"v_1Tail_0\"\n",
    "file = \"exhaustiveICP_8_11_grouped\"\n",
    "#file = \"exhaustiveICP_1_12_intersecRF_grouped\"\n",
    "fileRes = results_root+file+\"_\"+version+\"_pvals.pkl\" "
   ]
  },
  {
   "cell_type": "code",
   "execution_count": null,
   "id": "a7450ec5-2f66-4213-9b71-aa7612772a36",
   "metadata": {},
   "outputs": [],
   "source": [
    "#with open(fileRes, 'wb') as output:  # Overwrites any existing file.\n",
    "#        pickle.dump(res_ex2, output, pickle.HIGHEST_PROTOCOL)\n"
   ]
  },
  {
   "cell_type": "code",
   "execution_count": null,
   "id": "ae71f4ef-2de5-41c1-bcdc-c18d3909053d",
   "metadata": {},
   "outputs": [],
   "source": [
    "res_ex2 = pickle5.load( open( fileRes, \"rb\" ) )"
   ]
  },
  {
   "cell_type": "code",
   "execution_count": null,
   "id": "038ebd1e",
   "metadata": {},
   "outputs": [],
   "source": [
    "len(res_ex2)"
   ]
  },
  {
   "cell_type": "code",
   "execution_count": null,
   "id": "8c321afe-aad0-4fad-a3cd-eab2cc6d4e07",
   "metadata": {},
   "outputs": [],
   "source": [
    "sig = 0.05\n",
    "indxCombos2, = np.where([ (r[\"pval_1tail\"]>sig) for r in res_ex2])"
   ]
  },
  {
   "cell_type": "code",
   "execution_count": null,
   "id": "bdc531e5-443a-45e5-bb3e-7a623a82a0bf",
   "metadata": {},
   "outputs": [],
   "source": [
    "[res_ex2[i] for i in indxCombos2]"
   ]
  },
  {
   "cell_type": "code",
   "execution_count": null,
   "id": "7b8d8043-5482-479f-b132-3f6528b0f847",
   "metadata": {},
   "outputs": [],
   "source": [
    "type(res_ex2)"
   ]
  },
  {
   "cell_type": "code",
   "execution_count": null,
   "id": "09593284",
   "metadata": {},
   "outputs": [],
   "source": [
    "indxCombos2"
   ]
  },
  {
   "cell_type": "code",
   "execution_count": null,
   "id": "f9b3b11d-ccb7-4f9b-a273-83f8121f10f2",
   "metadata": {},
   "outputs": [],
   "source": [
    "combosPass2 = [combosDep[i] for i in indxCombos2]\n",
    "len(combosPass2)"
   ]
  },
  {
   "cell_type": "code",
   "execution_count": null,
   "id": "8b28e748-4ce4-457a-b4fc-e7b6c6243d4d",
   "metadata": {},
   "outputs": [],
   "source": [
    "combosPass2"
   ]
  },
  {
   "cell_type": "code",
   "execution_count": null,
   "id": "c102ed34-503f-4ec6-8078-fb865987a116",
   "metadata": {},
   "outputs": [],
   "source": [
    "cmb2 = combosPass2[0]\n",
    "for i in range(1,len(combosPass2)):\n",
    "    cmb2 = set(cmb2).intersection(combosPass2[i])\n",
    "list(cmb2)"
   ]
  },
  {
   "cell_type": "code",
   "execution_count": null,
   "id": "134ae8d2-7ae8-4287-aee1-c55d23e4897f",
   "metadata": {},
   "outputs": [],
   "source": [
    "findIndxAux(varss, [\"sshf\"], 0)"
   ]
  },
  {
   "cell_type": "code",
   "execution_count": null,
   "id": "86caa4c6-f2ef-459b-a9de-ffb427778c1d",
   "metadata": {},
   "outputs": [],
   "source": [
    "findIndxAux(varss, [\"cape\"], 0)"
   ]
  },
  {
   "cell_type": "code",
   "execution_count": null,
   "id": "a1dc7aa1-1f26-4ab2-98c4-35befcea953a",
   "metadata": {},
   "outputs": [],
   "source": [
    "depGrps"
   ]
  },
  {
   "cell_type": "code",
   "execution_count": null,
   "id": "ed04a4ff-43e8-4e30-8e02-aa64f1977530",
   "metadata": {},
   "outputs": [],
   "source": [
    "k = 0\n",
    "j = 0\n",
    "combosPass2_grp = [list(np.where([set(depGrps[k]).issubset([findIndxAux(np.array(varss)[indxIncl],combosPass2[j],i) for i in range(len(combosPass2[j]))]) for k in range(len(depGrps))]))[0].tolist() for j in range(len(combosPass2))]"
   ]
  },
  {
   "cell_type": "code",
   "execution_count": null,
   "id": "66659d2e-0184-4d59-af29-de2ae05d6a2a",
   "metadata": {},
   "outputs": [],
   "source": [
    "cmb2_grp = combosPass2_grp[0]\n",
    "for i in range(1,len(combosPass2_grp)):\n",
    "    cmb2_grp = set(cmb2_grp).intersection(combosPass2_grp[i])\n",
    "list(cmb2_grp)"
   ]
  },
  {
   "cell_type": "code",
   "execution_count": null,
   "id": "960b9d4d-2a21-4768-b978-9b6c1686467c",
   "metadata": {},
   "outputs": [],
   "source": [
    "[depGrps[c] for c in list(cmb2_grp)]"
   ]
  },
  {
   "cell_type": "code",
   "execution_count": null,
   "id": "bdad3a09-e830-49a6-a520-5c62affa8a56",
   "metadata": {},
   "outputs": [],
   "source": [
    "[np.array(varss)[indxIncl][d] for d in list(cmb2_grp)]"
   ]
  },
  {
   "cell_type": "code",
   "execution_count": null,
   "id": "027e4ff2-113f-41d5-a09c-547e5a3da6bd",
   "metadata": {},
   "outputs": [],
   "source": [
    "[np.array(varss)[indxIncl][d] for d in [depGrps[c] for c in list(cmb2_grp)]]"
   ]
  },
  {
   "cell_type": "code",
   "execution_count": null,
   "id": "e9744241-dc39-4e4e-a083-c1be5c2764fe",
   "metadata": {},
   "outputs": [],
   "source": []
  },
  {
   "cell_type": "code",
   "execution_count": null,
   "id": "baa868a0-e105-4217-807f-974992070d5a",
   "metadata": {},
   "outputs": [],
   "source": [
    "np.array(varss)[res[\"indxVar\"]]"
   ]
  },
  {
   "cell_type": "markdown",
   "id": "12a0d437",
   "metadata": {},
   "source": [
    "## Validation of greedyICP causal ordering using regional cross-validation (Figure 3 from paper)"
   ]
  },
  {
   "cell_type": "code",
   "execution_count": null,
   "id": "ecda75bf-dfe6-40e2-922f-ec61082db317",
   "metadata": {},
   "outputs": [],
   "source": [
    "# impurity RF order\n",
    "ordVars_RF = ['cvl','typeL','cvh','typeH','w','cin','ch2','sshf','u','slhf','uv250','blh','uv10','r750','r850','v','fg10',\n",
    " 'ch1', 'ch3','ch4','u10','z','v10','alt','r650','ch5','ch6','cape']\n",
    "\n",
    "# greedy-ICP order\n",
    "ordVars_ICP = ['v10', 'cin', 'ch3', 'uv250', 'ch2', 'ch5', 'slhf', 'r750', 'fg10',\n",
    "       'r650', 'u', 'ch4', 'cvh', 'typeL', 'typeH', 'cvl', 'w', 'blh',\n",
    "       'uv10', 'z', 'ch1', 'u10', 'sshf', 'r850', 'v', 'ch6', 'cape',\n",
    "       'alt']"
   ]
  },
  {
   "cell_type": "code",
   "execution_count": null,
   "id": "003ab864-04b4-45c6-8d5a-9be04b323df0",
   "metadata": {},
   "outputs": [],
   "source": [
    "i = 1\n",
    "unions = [list(set(ordVars_RF[::-1][0:i]).union(ordVars_ICP[::-1][0:i])) for i in range(1, len(ordVars_RF))]"
   ]
  },
  {
   "cell_type": "code",
   "execution_count": null,
   "id": "39f2067e-c98d-4b75-8c92-b8893f9ec272",
   "metadata": {},
   "outputs": [],
   "source": [
    "[len(u) for u in unions]"
   ]
  },
  {
   "cell_type": "code",
   "execution_count": null,
   "id": "d62126b9-9969-4f61-987c-a39338fa1818",
   "metadata": {},
   "outputs": [],
   "source": [
    "np.sum([comb(12,i) for i in range(12)])"
   ]
  },
  {
   "cell_type": "code",
   "execution_count": null,
   "id": "6da99784-6e40-4044-9b30-480269214d31",
   "metadata": {},
   "outputs": [],
   "source": [
    "len(unions[7])\n",
    "unions[7]"
   ]
  },
  {
   "cell_type": "code",
   "execution_count": null,
   "id": "f3a9405b-bb3d-4dea-adc3-26c793804995",
   "metadata": {},
   "outputs": [],
   "source": [
    "ordVars = ordVars_ICP"
   ]
  },
  {
   "cell_type": "code",
   "execution_count": null,
   "id": "12da43bf-85d2-4c27-918d-7fa54ee62549",
   "metadata": {},
   "outputs": [],
   "source": [
    "combosOrd = [ordVars[i:len(ordVars)] for i in range(len(ordVars))]"
   ]
  },
  {
   "cell_type": "code",
   "execution_count": null,
   "id": "e4de9c43-bab7-4bd6-af83-b5e1656610b1",
   "metadata": {},
   "outputs": [],
   "source": [
    "len(ordVars)\n",
    "len(combosOrd[0])"
   ]
  },
  {
   "cell_type": "code",
   "execution_count": null,
   "id": "50a16c30-adfe-45c6-a320-217cd5dd0499",
   "metadata": {},
   "outputs": [],
   "source": [
    "cluster_var"
   ]
  },
  {
   "cell_type": "code",
   "execution_count": null,
   "id": "9b7033e0-2d3a-4df8-a69b-4ed9fbe31c6a",
   "metadata": {},
   "outputs": [],
   "source": [
    "combosOrd"
   ]
  },
  {
   "cell_type": "code",
   "execution_count": null,
   "id": "6a344d96",
   "metadata": {},
   "outputs": [],
   "source": [
    "from rf import *"
   ]
  },
  {
   "cell_type": "code",
   "execution_count": null,
   "id": "41b9b052-fcd5-4741-8d01-83946fa45304",
   "metadata": {},
   "outputs": [],
   "source": [
    "np.random.seed(1234556)\n",
    "num_reps = 1\n",
    "seed = 1234\n",
    "res = [getFold(cluster, cluster_var, cube, labels, event_df, num_reps, seed, byinistate=False, importance=False, shuffle=True) for cluster in np.unique(event_df[cluster_var])]"
   ]
  },
  {
   "cell_type": "code",
   "execution_count": null,
   "id": "caaa5e48-79e2-4962-b757-2f3ba4efad8f",
   "metadata": {},
   "outputs": [],
   "source": [
    "def maxAUC(x):\n",
    "    indx = np.argmax(x.auc)\n",
    "    #print(indx)\n",
    "    return x.iloc[indx]"
   ]
  },
  {
   "cell_type": "code",
   "execution_count": null,
   "id": "7d500e14-12ea-49e5-a8eb-f46418e9192f",
   "metadata": {},
   "outputs": [],
   "source": [
    "res_msrs = [list(rm)[0] for rm in res]\n",
    "res_msrs = pd.concat(res_msrs)\n",
    "resMax = res_msrs[[\"rep\",\"fold\",\"auc\",\"fpr\",\"fnr\"]].groupby([\"fold\"]).apply(maxAUC)#.reset_index()#.rename(columns={0:\"auc\"})\n",
    "res = {\"mean\":np.mean(resMax.auc), \"std\":np.std(resMax.auc)}\n",
    "print(res)\n",
    "# for event {'mean': 0.5444933526439506, 'std': 0.070835034298292}\n",
    "# for spatial {'mean': 0.4433585660768273, 'std': 0.07028088333880186}"
   ]
  },
  {
   "cell_type": "code",
   "execution_count": null,
   "id": "e606c868-f9f8-4008-ae53-a4fdfc1040d7",
   "metadata": {},
   "outputs": [],
   "source": [
    "posts =np.arange(0,cube.shape[1]+1-10, 11)\n",
    "posts = np.array(posts.tolist()+[posts[posts.shape[0]-1]+4,posts[posts.shape[0]-1]+10])\n",
    "posts"
   ]
  },
  {
   "cell_type": "code",
   "execution_count": null,
   "id": "9098c114-fbc8-4459-911d-60c564a674ab",
   "metadata": {},
   "outputs": [],
   "source": [
    "cluster_var"
   ]
  },
  {
   "cell_type": "code",
   "execution_count": null,
   "id": "f5e8580b-9dc5-41fc-a1bb-20594b93aaf7",
   "metadata": {},
   "outputs": [],
   "source": [
    "num_reps = 1\n",
    "seed = 1234\n",
    "\n",
    "start_time = time.time()\n",
    "#resSeqICP = [getSeqICP(c, varss,posts, \"cluster_regional\", cube, labels, event_df, num_reps, seed) for c in combosOrd]\n",
    "elapsed_time = time.time() - start_time\n",
    "print(\"elapsed time: \", elapsed_time) # for 5 folds, 1 rep each\n",
    "\n"
   ]
  },
  {
   "cell_type": "code",
   "execution_count": null,
   "id": "51a569e8-21f3-461c-9465-3364b169490a",
   "metadata": {},
   "outputs": [],
   "source": [
    "results_root = \"/home/emiliano/Documents/FDL/clean_code/results/\"\n",
    "\n",
    "file = \"rf_pred_era5_19vs_29vs\"\n",
    "\n",
    "\n",
    "version = \"vRegion_ICP_selected\"\n",
    "#version = \"vRand_ICP_selected\"\n",
    "\n",
    "fileRes = results_root+file+\"_\"+version+\"ICPseq.png\"\n",
    "#fileRes = results_root+file+\"_\"+version+\"RFimpurity_seq.png\"\n",
    "fileRes"
   ]
  },
  {
   "cell_type": "code",
   "execution_count": null,
   "id": "05e411c9-dd1a-42dd-a80f-1cd5f394e271",
   "metadata": {},
   "outputs": [],
   "source": [
    "#with open(fileRes, 'wb') as output:  # Overwrites any existing file.\n",
    "#        pickle.dump(resSeqICP, output, pickle.HIGHEST_PROTOCOL)\n"
   ]
  },
  {
   "cell_type": "code",
   "execution_count": null,
   "id": "7ea9bd41-137d-4f20-81a7-f45370789e34",
   "metadata": {},
   "outputs": [],
   "source": [
    "resSeqICP[0]"
   ]
  },
  {
   "cell_type": "code",
   "execution_count": null,
   "id": "d7b9e7f0-416a-4df6-b8df-a2b9cecb70cb",
   "metadata": {},
   "outputs": [],
   "source": [
    "resICP_mean = [r[\"mean\"] for r in resSeqICP]\n",
    "resICP_std = [r[\"std\"] for r in resSeqICP]"
   ]
  },
  {
   "cell_type": "code",
   "execution_count": null,
   "id": "ff737869-fc70-47b3-9466-1473360f9749",
   "metadata": {},
   "outputs": [],
   "source": [
    "plt.scatter(ordVars, resICP_mean)"
   ]
  },
  {
   "cell_type": "code",
   "execution_count": null,
   "id": "fa16423d-e87b-4737-b98f-02f09aa4d2f6",
   "metadata": {},
   "outputs": [],
   "source": [
    "plt.scatter(ordVars, resICP_mean)"
   ]
  },
  {
   "cell_type": "code",
   "execution_count": null,
   "id": "9f2d3f8c-f46f-4ebd-9a8f-6566b9cae3b0",
   "metadata": {},
   "outputs": [],
   "source": [
    "plt.scatter(ordVars, resICP_std)"
   ]
  },
  {
   "cell_type": "code",
   "execution_count": null,
   "id": "1ce773ed-cd37-4b54-a11c-28bde0cf61a8",
   "metadata": {},
   "outputs": [],
   "source": [
    "plt.scatter(ordVars, resICP_std)"
   ]
  },
  {
   "cell_type": "code",
   "execution_count": null,
   "id": "0428566b-de8e-4662-b34e-375c9c54b3f9",
   "metadata": {},
   "outputs": [],
   "source": [
    "len(ordVars)"
   ]
  },
  {
   "cell_type": "code",
   "execution_count": null,
   "id": "01ef6986-8553-46fe-8416-0574bde13155",
   "metadata": {},
   "outputs": [],
   "source": [
    "file"
   ]
  },
  {
   "cell_type": "code",
   "execution_count": null,
   "id": "ebb9e142-673f-4784-ab90-89349975b8dc",
   "metadata": {},
   "outputs": [],
   "source": [
    "\n",
    "# greedy-ICP order\n",
    "ordVars = ['v10', 'cin', 'ch3', 'uv250', 'ch2', 'ch5', 'slhf', 'r750', 'fg10',\n",
    "       'r650', 'u', 'ch4', 'cvh', 'typeL', 'typeH', 'cvl', 'w', 'blh',\n",
    "       'uv10', 'z', 'ch1', 'u10', 'sshf', 'r850', 'v', 'ch6', 'cape',\n",
    "       'alt']\n",
    "\n",
    "results_root = \"/home/emiliano/Documents/FDL/clean_code/results/\"\n",
    "file = \"rf_pred_era5_19vs_29vs\"\n",
    "\n",
    "version = \"vRand_ICP_selected\"\n",
    "fileRes = results_root+file+\"_\"+version+\"ICPseq.pkl\"\n",
    "\n",
    "resSeqICPrand = pickle5.load( open( fileRes, \"rb\" ) )\n",
    "resICPrand_mean = [r[\"mean\"] for r in resSeqICPrand]\n",
    "resICPrand_std = [r[\"std\"] for r in resSeqICPrand]\n",
    "df_rand = pd.DataFrame({\"var\":ordVars,\"mean_AUC\":resICPrand_mean, \"std_AUC\":resICPrand_std})\n",
    "df_rand[\"CV\"] = \"random\"\n",
    "df_rand[\"order\"] = \"ICP\"\n",
    "df_rand[\"idx_var\"] = np.arange(df_rand.shape[0])"
   ]
  },
  {
   "cell_type": "code",
   "execution_count": null,
   "id": "3aa79163-3c25-4814-bdf8-b6122bd54b3a",
   "metadata": {},
   "outputs": [],
   "source": [
    "results_root = \"/home/emiliano/Documents/FDL/clean_code/results/\"\n",
    "file = \"rf_pred_era5_19vs_29vs\"\n",
    "version = \"vRegion_ICP_selected\"\n",
    "\n",
    "fileRes = results_root+file+\"_\"+version+\"ICPseq.pkl\"\n",
    "\n",
    "resSeqICPreg = pickle5.load( open( fileRes, \"rb\" ) )\n",
    "resICPreg_mean = [r[\"mean\"] for r in resSeqICPreg]\n",
    "resICPreg_std = [r[\"std\"] for r in resSeqICPreg]\n",
    "df_region = pd.DataFrame({\"var\":ordVars,\"mean_AUC\":resICPreg_mean, \"std_AUC\":resICPreg_std})\n",
    "df_region[\"CV\"] = \"regional\"\n",
    "df_region[\"order\"] = \"ICP\"\n",
    "df_region[\"idx_var\"] = np.arange(df_region.shape[0])"
   ]
  },
  {
   "cell_type": "code",
   "execution_count": null,
   "id": "557c7ca7-628a-4e24-99b8-809f37891204",
   "metadata": {},
   "outputs": [],
   "source": [
    "df = pd.concat([df_rand, df_region])\n",
    "df = pd.melt(df, id_vars=[\"var\",\"CV\",\"order\",\"idx_var\"])\n",
    "df.head()"
   ]
  },
  {
   "cell_type": "code",
   "execution_count": null,
   "id": "9f982c02-a224-4d21-b8a3-ca374fc66efa",
   "metadata": {},
   "outputs": [],
   "source": [
    "df = pd.concat([df_rand, df_region])\n",
    "df = pd.melt(df, id_vars=[\"var\",\"CV\",\"order\",\"idx_var\"])\n",
    "df.head()"
   ]
  },
  {
   "cell_type": "code",
   "execution_count": null,
   "id": "cdd1592f-2040-49be-92a9-6eda823a39f3",
   "metadata": {},
   "outputs": [],
   "source": [
    "file"
   ]
  },
  {
   "cell_type": "code",
   "execution_count": null,
   "id": "33a59570-d464-464e-ae6f-04a7251b12c2",
   "metadata": {},
   "outputs": [],
   "source": [
    "version1 = \"ICP_selected\""
   ]
  },
  {
   "cell_type": "code",
   "execution_count": null,
   "id": "a71ed266-17e5-4eb0-aba7-ab5e7419379c",
   "metadata": {},
   "outputs": [],
   "source": [
    "fileRes = results_root+file+\"_\"+version1+\"valid_AUC_mean_std.png\"\n",
    "fileRes"
   ]
  },
  {
   "cell_type": "code",
   "execution_count": null,
   "id": "50b7dd85-ce91-4d14-8913-9515a3dc8df6",
   "metadata": {},
   "outputs": [],
   "source": [
    "g = sns.FacetGrid(df, col=\"variable\",hue=\"CV\",margin_titles=True, sharey=False)\n",
    "g.map(sns.stripplot, \"var\", \"value\",  size=7)\n",
    "#g.set(xlabel='variable excluded', ylabel='auc')\n",
    "g.set_titles(col_template=\"{col_name}\",size=16)\n",
    "#g.set_titles(row_template=\"{row_name}\",size=16)\n",
    "\n",
    "    #g.set(xticks=onp.unique(resAux[\"num\"]))\n",
    "    #g.set_xticklabels(par_vals)\n",
    "\n",
    "g.set_xticklabels(rotation=90)\n",
    "g.set_xticklabels(size=10)\n",
    "\n",
    "\n",
    "g.set_axis_labels(\"Seq. of excluded vars.\", \"auc\", size=16)\n",
    "\n",
    "g.add_legend()\n",
    "#plt.legend(title='Team', fontsize='10', title_fontsize='14')\n",
    "\n",
    "plt.setp(g._legend.get_title(), fontsize=20)\n",
    "plt.setp(g._legend.get_texts(), fontsize=15)\n",
    "\n",
    "#plt.legend(bbox_to_anchor=(1.3, 1),borderaxespad=0)\n",
    "#g.savefig(fileRes, format='png', dpi=300)\n",
    "    \n",
    "    "
   ]
  }
 ],
 "metadata": {
  "environment": {
   "kernel": "python3",
   "name": "pytorch-gpu.1-11.m94",
   "type": "gcloud",
   "uri": "gcr.io/deeplearning-platform-release/pytorch-gpu.1-11:m94"
  },
  "kernelspec": {
   "display_name": "Python 3 (ipykernel)",
   "language": "python",
   "name": "python3"
  },
  "language_info": {
   "codemirror_mode": {
    "name": "ipython",
    "version": 3
   },
   "file_extension": ".py",
   "mimetype": "text/x-python",
   "name": "python",
   "nbconvert_exporter": "python",
   "pygments_lexer": "ipython3",
   "version": "3.7.12"
  }
 },
 "nbformat": 4,
 "nbformat_minor": 5
}
